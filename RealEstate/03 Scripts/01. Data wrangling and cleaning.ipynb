{
 "cells": [
  {
   "cell_type": "markdown",
   "id": "f23f2751",
   "metadata": {},
   "source": [
    "### Contents\n",
    "    1. Importing libraries and data\n",
    "    2. Data wrangling\n",
    "    3. Data cleaning\n",
    "       a. Finding and addressing missing values\n",
    "       b. Finding and addressing mixed data types\n",
    "       c. Finding and addressing duplicate values\n",
    "    4. Additional cleaning\n",
    "    5. Exporting data"
   ]
  },
  {
   "cell_type": "markdown",
   "id": "7e7eedbe",
   "metadata": {},
   "source": [
    "# 01. Importing libraries and datasets"
   ]
  },
  {
   "cell_type": "code",
   "execution_count": 1,
   "id": "ad8ac360",
   "metadata": {},
   "outputs": [],
   "source": [
    "#importing libraries\n",
    "import pandas as pd\n",
    "import numpy as np\n",
    "import os\n",
    "import matplotlib.pyplot as plt\n",
    "import seaborn as sns\n",
    "import scipy"
   ]
  },
  {
   "cell_type": "code",
   "execution_count": 2,
   "id": "190c0ce3",
   "metadata": {},
   "outputs": [],
   "source": [
    "#importing datasets\n",
    "path=r'C:\\Users\\munav\\Desktop\\bootcamps\\Projects\\RealEstate'\n",
    "df1=pd.read_csv(os.path.join(path, '02 Data', 'Original Data', 'Real_Estate_Chicago.csv'))\n",
    "df2=pd.read_csv(os.path.join(path, '02 Data', 'Original Data', 'Real_Estate_Chicago2.csv'))\n",
    "df3=pd.read_csv(os.path.join(path, '02 Data', 'Original Data', 'Real_Estate_Chicago3.csv'))\n",
    "df4=pd.read_csv(os.path.join(path, '02 Data', 'Original Data', 'Real_Estate_Dallas.csv'))\n",
    "df5=pd.read_csv(os.path.join(path, '02 Data', 'Original Data', 'Real_Estate_Houston.csv'))"
   ]
  },
  {
   "cell_type": "code",
   "execution_count": 3,
   "id": "415df7cd",
   "metadata": {},
   "outputs": [],
   "source": [
    "#importing datasets\n",
    "df6=pd.read_csv(os.path.join(path, '02 Data', 'Original Data', 'Real_Estate_LA.csv'))\n",
    "df7=pd.read_csv(os.path.join(path, '02 Data', 'Original Data', 'Real_Estate_NY.csv'))\n",
    "df8=pd.read_csv(os.path.join(path, '02 Data', 'Original Data', 'Real_Estate_Philadelphia.csv'))\n",
    "df9=pd.read_csv(os.path.join(path, '02 Data', 'Original Data', 'Real_Estate_Phoenix.csv'))\n",
    "df10=pd.read_csv(os.path.join(path, '02 Data', 'Original Data', 'Real_Estate_SA.csv'))\n",
    "df11=pd.read_csv(os.path.join(path, '02 Data', 'Original Data', 'Real_Estate_SD.csv'))\n",
    "df12=pd.read_csv(os.path.join(path, '02 Data', 'Original Data', 'Real_Estate_SJ.csv'))"
   ]
  },
  {
   "cell_type": "markdown",
   "id": "cbcd23b1",
   "metadata": {},
   "source": [
    "# 02. Data wrangling"
   ]
  },
  {
   "cell_type": "code",
   "execution_count": 4,
   "id": "621267da",
   "metadata": {},
   "outputs": [],
   "source": [
    "#Merging the datasets\n",
    "df_concat=pd.concat([df1,df2,df3, df4, df5, df6, df7, df8, df9, df10, df11, df12], axis=0)"
   ]
  },
  {
   "cell_type": "code",
   "execution_count": 5,
   "id": "707571b4",
   "metadata": {},
   "outputs": [
    {
     "data": {
      "text/plain": [
       "(60890, 8)"
      ]
     },
     "execution_count": 5,
     "metadata": {},
     "output_type": "execute_result"
    }
   ],
   "source": [
    "df_concat.shape"
   ]
  },
  {
   "cell_type": "code",
   "execution_count": 6,
   "id": "f79b37b7",
   "metadata": {},
   "outputs": [
    {
     "data": {
      "text/html": [
       "<div>\n",
       "<style scoped>\n",
       "    .dataframe tbody tr th:only-of-type {\n",
       "        vertical-align: middle;\n",
       "    }\n",
       "\n",
       "    .dataframe tbody tr th {\n",
       "        vertical-align: top;\n",
       "    }\n",
       "\n",
       "    .dataframe thead th {\n",
       "        text-align: right;\n",
       "    }\n",
       "</style>\n",
       "<table border=\"1\" class=\"dataframe\">\n",
       "  <thead>\n",
       "    <tr style=\"text-align: right;\">\n",
       "      <th></th>\n",
       "      <th>city</th>\n",
       "      <th>address1</th>\n",
       "      <th>address2</th>\n",
       "      <th>price</th>\n",
       "      <th>beds</th>\n",
       "      <th>baths</th>\n",
       "      <th>sqft</th>\n",
       "      <th>sqftlot</th>\n",
       "    </tr>\n",
       "  </thead>\n",
       "  <tbody>\n",
       "    <tr>\n",
       "      <th>0</th>\n",
       "      <td>Chicago</td>\n",
       "      <td>2711 W Congress Pkwy Apt 2</td>\n",
       "      <td>Chicago,, IL, ,60612</td>\n",
       "      <td>$270,000</td>\n",
       "      <td>3.0</td>\n",
       "      <td>2</td>\n",
       "      <td>1,400</td>\n",
       "      <td>NaN</td>\n",
       "    </tr>\n",
       "    <tr>\n",
       "      <th>1</th>\n",
       "      <td>Chicago</td>\n",
       "      <td>7032 S Laflin St</td>\n",
       "      <td>Chicago,, IL, ,60636</td>\n",
       "      <td>$110,000</td>\n",
       "      <td>5.0</td>\n",
       "      <td>3</td>\n",
       "      <td>NaN</td>\n",
       "      <td>6,200</td>\n",
       "    </tr>\n",
       "    <tr>\n",
       "      <th>2</th>\n",
       "      <td>Chicago</td>\n",
       "      <td>4111 W Washington Blvd</td>\n",
       "      <td>Chicago,, IL, ,60624</td>\n",
       "      <td>$20,000</td>\n",
       "      <td>3.0</td>\n",
       "      <td>2</td>\n",
       "      <td>NaN</td>\n",
       "      <td>3,125</td>\n",
       "    </tr>\n",
       "    <tr>\n",
       "      <th>3</th>\n",
       "      <td>Chicago</td>\n",
       "      <td>1560 E 93rd St</td>\n",
       "      <td>Chicago,, IL, ,60619</td>\n",
       "      <td>$69,900</td>\n",
       "      <td>2.0</td>\n",
       "      <td>2</td>\n",
       "      <td>1,124</td>\n",
       "      <td>4,626</td>\n",
       "    </tr>\n",
       "    <tr>\n",
       "      <th>4</th>\n",
       "      <td>Chicago</td>\n",
       "      <td>209 N LA Crosse Ave</td>\n",
       "      <td>Chicago,, IL, ,60644</td>\n",
       "      <td>$119,000</td>\n",
       "      <td>4.0</td>\n",
       "      <td>2</td>\n",
       "      <td>NaN</td>\n",
       "      <td>2,178</td>\n",
       "    </tr>\n",
       "  </tbody>\n",
       "</table>\n",
       "</div>"
      ],
      "text/plain": [
       "      city                    address1              address2      price beds  \\\n",
       "0  Chicago  2711 W Congress Pkwy Apt 2  Chicago,, IL, ,60612  $270,000   3.0   \n",
       "1  Chicago            7032 S Laflin St  Chicago,, IL, ,60636  $110,000   5.0   \n",
       "2  Chicago      4111 W Washington Blvd  Chicago,, IL, ,60624   $20,000   3.0   \n",
       "3  Chicago              1560 E 93rd St  Chicago,, IL, ,60619   $69,900   2.0   \n",
       "4  Chicago         209 N LA Crosse Ave  Chicago,, IL, ,60644  $119,000   4.0   \n",
       "\n",
       "  baths   sqft sqftlot  \n",
       "0     2  1,400     NaN  \n",
       "1     3    NaN   6,200  \n",
       "2     2    NaN   3,125  \n",
       "3     2  1,124   4,626  \n",
       "4     2    NaN   2,178  "
      ]
     },
     "execution_count": 6,
     "metadata": {},
     "output_type": "execute_result"
    }
   ],
   "source": [
    "df_concat.head()"
   ]
  },
  {
   "cell_type": "code",
   "execution_count": 7,
   "id": "5be52b05",
   "metadata": {},
   "outputs": [
    {
     "data": {
      "text/html": [
       "<div>\n",
       "<style scoped>\n",
       "    .dataframe tbody tr th:only-of-type {\n",
       "        vertical-align: middle;\n",
       "    }\n",
       "\n",
       "    .dataframe tbody tr th {\n",
       "        vertical-align: top;\n",
       "    }\n",
       "\n",
       "    .dataframe thead th {\n",
       "        text-align: right;\n",
       "    }\n",
       "</style>\n",
       "<table border=\"1\" class=\"dataframe\">\n",
       "  <thead>\n",
       "    <tr style=\"text-align: right;\">\n",
       "      <th></th>\n",
       "      <th>city</th>\n",
       "      <th>address1</th>\n",
       "      <th>address2</th>\n",
       "      <th>price</th>\n",
       "      <th>beds</th>\n",
       "      <th>baths</th>\n",
       "      <th>sqft</th>\n",
       "      <th>sqftlot</th>\n",
       "    </tr>\n",
       "  </thead>\n",
       "  <tbody>\n",
       "    <tr>\n",
       "      <th>781</th>\n",
       "      <td>San Jose</td>\n",
       "      <td>498 Irving Ave</td>\n",
       "      <td>San Jose,, CA, ,95128</td>\n",
       "      <td>$699,999</td>\n",
       "      <td>2.0</td>\n",
       "      <td>1</td>\n",
       "      <td>988</td>\n",
       "      <td>4,138</td>\n",
       "    </tr>\n",
       "    <tr>\n",
       "      <th>782</th>\n",
       "      <td>San Jose</td>\n",
       "      <td>3487 Ramstad Dr</td>\n",
       "      <td>San Jose,, CA, ,95127</td>\n",
       "      <td>$1,250,000</td>\n",
       "      <td>NaN</td>\n",
       "      <td>NaN</td>\n",
       "      <td>NaN</td>\n",
       "      <td>1.5</td>\n",
       "    </tr>\n",
       "    <tr>\n",
       "      <th>783</th>\n",
       "      <td>San Jose</td>\n",
       "      <td>Miradero Ave</td>\n",
       "      <td>San Jose,, CA, ,95127</td>\n",
       "      <td>$400,000</td>\n",
       "      <td>NaN</td>\n",
       "      <td>NaN</td>\n",
       "      <td>NaN</td>\n",
       "      <td>1.64</td>\n",
       "    </tr>\n",
       "    <tr>\n",
       "      <th>784</th>\n",
       "      <td>San Jose</td>\n",
       "      <td>14830 Corralitos Ln</td>\n",
       "      <td>San Jose,, CA, ,95127</td>\n",
       "      <td>$1,050,000</td>\n",
       "      <td>NaN</td>\n",
       "      <td>NaN</td>\n",
       "      <td>NaN</td>\n",
       "      <td>0.85</td>\n",
       "    </tr>\n",
       "    <tr>\n",
       "      <th>785</th>\n",
       "      <td>San Jose</td>\n",
       "      <td>546 Bird Ave</td>\n",
       "      <td>San Jose,, CA, ,95125</td>\n",
       "      <td>$1,150,000</td>\n",
       "      <td>NaN</td>\n",
       "      <td>NaN</td>\n",
       "      <td>NaN</td>\n",
       "      <td>9,439</td>\n",
       "    </tr>\n",
       "  </tbody>\n",
       "</table>\n",
       "</div>"
      ],
      "text/plain": [
       "         city             address1               address2        price beds  \\\n",
       "781  San Jose       498 Irving Ave  San Jose,, CA, ,95128    $699,999   2.0   \n",
       "782  San Jose      3487 Ramstad Dr  San Jose,, CA, ,95127  $1,250,000   NaN   \n",
       "783  San Jose         Miradero Ave  San Jose,, CA, ,95127    $400,000   NaN   \n",
       "784  San Jose  14830 Corralitos Ln  San Jose,, CA, ,95127  $1,050,000   NaN   \n",
       "785  San Jose         546 Bird Ave  San Jose,, CA, ,95125  $1,150,000   NaN   \n",
       "\n",
       "    baths sqft sqftlot  \n",
       "781     1  988   4,138  \n",
       "782   NaN  NaN     1.5  \n",
       "783   NaN  NaN    1.64  \n",
       "784   NaN  NaN    0.85  \n",
       "785   NaN  NaN   9,439  "
      ]
     },
     "execution_count": 7,
     "metadata": {},
     "output_type": "execute_result"
    }
   ],
   "source": [
    "df_concat.tail()"
   ]
  },
  {
   "cell_type": "code",
   "execution_count": 8,
   "id": "2cc5d154",
   "metadata": {},
   "outputs": [],
   "source": [
    "#Renaming the dataset\n",
    "df=df_concat"
   ]
  },
  {
   "cell_type": "code",
   "execution_count": 9,
   "id": "497911f6",
   "metadata": {},
   "outputs": [
    {
     "data": {
      "text/plain": [
       "78253    1121\n",
       "78245     840\n",
       "78254     835\n",
       "60611     578\n",
       "78252     536\n",
       "         ... \n",
       "78056       1\n",
       "91748       1\n",
       "78006       1\n",
       "90220       1\n",
       "90717       1\n",
       "Name: zip, Length: 789, dtype: int64"
      ]
     },
     "execution_count": 9,
     "metadata": {},
     "output_type": "execute_result"
    }
   ],
   "source": [
    "#Extracting zip code\n",
    "df['zip']=df['address2'].str.split(', ,').str[1]\n",
    "df['zip'].value_counts(dropna=False)"
   ]
  },
  {
   "cell_type": "code",
   "execution_count": 10,
   "id": "94df19ba",
   "metadata": {},
   "outputs": [
    {
     "data": {
      "text/plain": [
       " TX    20326\n",
       " CA     9807\n",
       " IL     8596\n",
       " NY     8591\n",
       " PA     7987\n",
       " AZ     5520\n",
       "NaN       62\n",
       "           1\n",
       "Name: state, dtype: int64"
      ]
     },
     "execution_count": 10,
     "metadata": {},
     "output_type": "execute_result"
    }
   ],
   "source": [
    "#Extracting state\n",
    "df['state']=df['address2'].str.split(',').str[2]\n",
    "df['state'].value_counts(dropna=False)"
   ]
  },
  {
   "cell_type": "code",
   "execution_count": 11,
   "id": "e76fbaa8",
   "metadata": {},
   "outputs": [
    {
     "data": {
      "text/html": [
       "<div>\n",
       "<style scoped>\n",
       "    .dataframe tbody tr th:only-of-type {\n",
       "        vertical-align: middle;\n",
       "    }\n",
       "\n",
       "    .dataframe tbody tr th {\n",
       "        vertical-align: top;\n",
       "    }\n",
       "\n",
       "    .dataframe thead th {\n",
       "        text-align: right;\n",
       "    }\n",
       "</style>\n",
       "<table border=\"1\" class=\"dataframe\">\n",
       "  <thead>\n",
       "    <tr style=\"text-align: right;\">\n",
       "      <th></th>\n",
       "      <th>city</th>\n",
       "      <th>address1</th>\n",
       "      <th>address2</th>\n",
       "      <th>price</th>\n",
       "      <th>beds</th>\n",
       "      <th>baths</th>\n",
       "      <th>sqft</th>\n",
       "      <th>sqftlot</th>\n",
       "      <th>zip</th>\n",
       "      <th>state</th>\n",
       "    </tr>\n",
       "  </thead>\n",
       "  <tbody>\n",
       "    <tr>\n",
       "      <th>0</th>\n",
       "      <td>Chicago</td>\n",
       "      <td>2711 W Congress Pkwy Apt 2</td>\n",
       "      <td>Chicago,, IL, ,60612</td>\n",
       "      <td>$270,000</td>\n",
       "      <td>3.0</td>\n",
       "      <td>2</td>\n",
       "      <td>1,400</td>\n",
       "      <td>NaN</td>\n",
       "      <td>60612</td>\n",
       "      <td>IL</td>\n",
       "    </tr>\n",
       "    <tr>\n",
       "      <th>1</th>\n",
       "      <td>Chicago</td>\n",
       "      <td>7032 S Laflin St</td>\n",
       "      <td>Chicago,, IL, ,60636</td>\n",
       "      <td>$110,000</td>\n",
       "      <td>5.0</td>\n",
       "      <td>3</td>\n",
       "      <td>NaN</td>\n",
       "      <td>6,200</td>\n",
       "      <td>60636</td>\n",
       "      <td>IL</td>\n",
       "    </tr>\n",
       "    <tr>\n",
       "      <th>2</th>\n",
       "      <td>Chicago</td>\n",
       "      <td>4111 W Washington Blvd</td>\n",
       "      <td>Chicago,, IL, ,60624</td>\n",
       "      <td>$20,000</td>\n",
       "      <td>3.0</td>\n",
       "      <td>2</td>\n",
       "      <td>NaN</td>\n",
       "      <td>3,125</td>\n",
       "      <td>60624</td>\n",
       "      <td>IL</td>\n",
       "    </tr>\n",
       "    <tr>\n",
       "      <th>3</th>\n",
       "      <td>Chicago</td>\n",
       "      <td>1560 E 93rd St</td>\n",
       "      <td>Chicago,, IL, ,60619</td>\n",
       "      <td>$69,900</td>\n",
       "      <td>2.0</td>\n",
       "      <td>2</td>\n",
       "      <td>1,124</td>\n",
       "      <td>4,626</td>\n",
       "      <td>60619</td>\n",
       "      <td>IL</td>\n",
       "    </tr>\n",
       "    <tr>\n",
       "      <th>4</th>\n",
       "      <td>Chicago</td>\n",
       "      <td>209 N LA Crosse Ave</td>\n",
       "      <td>Chicago,, IL, ,60644</td>\n",
       "      <td>$119,000</td>\n",
       "      <td>4.0</td>\n",
       "      <td>2</td>\n",
       "      <td>NaN</td>\n",
       "      <td>2,178</td>\n",
       "      <td>60644</td>\n",
       "      <td>IL</td>\n",
       "    </tr>\n",
       "  </tbody>\n",
       "</table>\n",
       "</div>"
      ],
      "text/plain": [
       "      city                    address1              address2      price beds  \\\n",
       "0  Chicago  2711 W Congress Pkwy Apt 2  Chicago,, IL, ,60612  $270,000   3.0   \n",
       "1  Chicago            7032 S Laflin St  Chicago,, IL, ,60636  $110,000   5.0   \n",
       "2  Chicago      4111 W Washington Blvd  Chicago,, IL, ,60624   $20,000   3.0   \n",
       "3  Chicago              1560 E 93rd St  Chicago,, IL, ,60619   $69,900   2.0   \n",
       "4  Chicago         209 N LA Crosse Ave  Chicago,, IL, ,60644  $119,000   4.0   \n",
       "\n",
       "  baths   sqft sqftlot    zip state  \n",
       "0     2  1,400     NaN  60612    IL  \n",
       "1     3    NaN   6,200  60636    IL  \n",
       "2     2    NaN   3,125  60624    IL  \n",
       "3     2  1,124   4,626  60619    IL  \n",
       "4     2    NaN   2,178  60644    IL  "
      ]
     },
     "execution_count": 11,
     "metadata": {},
     "output_type": "execute_result"
    }
   ],
   "source": [
    "df.head()"
   ]
  },
  {
   "cell_type": "code",
   "execution_count": 12,
   "id": "2a50ef6d",
   "metadata": {},
   "outputs": [],
   "source": [
    "#Renaming address1 \n",
    "df.rename(columns={'address1' : 'address'}, inplace=True)"
   ]
  },
  {
   "cell_type": "code",
   "execution_count": 13,
   "id": "6ddc7003",
   "metadata": {},
   "outputs": [
    {
     "data": {
      "text/plain": [
       "Texas           20326\n",
       "California       9807\n",
       "Illinois         8596\n",
       "New York         8591\n",
       "Pennsylvania     7987\n",
       "Arizona          5520\n",
       "NaN                62\n",
       "                    1\n",
       "Name: state, dtype: int64"
      ]
     },
     "execution_count": 13,
     "metadata": {},
     "output_type": "execute_result"
    }
   ],
   "source": [
    "#Renaming the state abbreviations with full name\n",
    "df['state']=df['state'].str.strip()\n",
    "df['state']=df['state'].replace({ 'AZ': 'Arizona', 'CA':'California', 'IL':'Illinois',  'PA':'Pennsylvania', 'TX':'Texas', 'NY':'New York'})\n",
    "df['state'].value_counts(dropna=False)"
   ]
  },
  {
   "cell_type": "code",
   "execution_count": 14,
   "id": "6475d484",
   "metadata": {},
   "outputs": [
    {
     "data": {
      "text/plain": [
       "city        object\n",
       "address     object\n",
       "address2    object\n",
       "price       object\n",
       "beds        object\n",
       "baths       object\n",
       "sqft        object\n",
       "sqftlot     object\n",
       "zip         object\n",
       "state       object\n",
       "dtype: object"
      ]
     },
     "execution_count": 14,
     "metadata": {},
     "output_type": "execute_result"
    }
   ],
   "source": [
    "df.dtypes"
   ]
  },
  {
   "cell_type": "code",
   "execution_count": 15,
   "id": "b849774d",
   "metadata": {
    "scrolled": false
   },
   "outputs": [
    {
     "data": {
      "text/plain": [
       "$350,000       391\n",
       "$275,000       345\n",
       "$599,000       332\n",
       "$250,000       331\n",
       "$375,000       317\n",
       "              ... \n",
       "$2,039,900       1\n",
       "$1,069,589       1\n",
       "$186,900         1\n",
       "$399,088         1\n",
       "$3,890,000       1\n",
       "Name: price, Length: 7142, dtype: int64"
      ]
     },
     "execution_count": 15,
     "metadata": {},
     "output_type": "execute_result"
    }
   ],
   "source": [
    "df['price'].value_counts(dropna=False)"
   ]
  },
  {
   "cell_type": "code",
   "execution_count": 16,
   "id": "0725575d",
   "metadata": {},
   "outputs": [
    {
     "data": {
      "text/plain": [
       "2        15283\n",
       "1         9280\n",
       "2.5       8204\n",
       "3         5440\n",
       "NaN       5135\n",
       "         ...  \n",
       "72           1\n",
       "22           1\n",
       "32           1\n",
       "28           1\n",
       "baths        1\n",
       "Name: baths, Length: 105, dtype: int64"
      ]
     },
     "execution_count": 16,
     "metadata": {},
     "output_type": "execute_result"
    }
   ],
   "source": [
    "df['baths'].value_counts(dropna=False)"
   ]
  },
  {
   "cell_type": "code",
   "execution_count": 17,
   "id": "f7c54fce",
   "metadata": {},
   "outputs": [
    {
     "data": {
      "text/plain": [
       "NaN      9651\n",
       "1,200     482\n",
       "1,000     304\n",
       "1,600     281\n",
       "1,800     272\n",
       "         ... \n",
       "4,769       1\n",
       "9,198       1\n",
       "9,900       1\n",
       "4,743       1\n",
       "3,389       1\n",
       "Name: sqft, Length: 5082, dtype: int64"
      ]
     },
     "execution_count": 17,
     "metadata": {},
     "output_type": "execute_result"
    }
   ],
   "source": [
    "df['sqft'].value_counts(dropna=False)"
   ]
  },
  {
   "cell_type": "code",
   "execution_count": 18,
   "id": "a7149105",
   "metadata": {},
   "outputs": [
    {
     "data": {
      "text/plain": [
       "NaN      16078\n",
       "3,125      594\n",
       "2,500      475\n",
       "0.24       471\n",
       "0.23       369\n",
       "         ...  \n",
       "8,256        1\n",
       "4,236        1\n",
       "5,404        1\n",
       "7,757        1\n",
       "29.79        1\n",
       "Name: sqftlot, Length: 7008, dtype: int64"
      ]
     },
     "execution_count": 18,
     "metadata": {},
     "output_type": "execute_result"
    }
   ],
   "source": [
    "df['sqftlot'].value_counts(dropna=False)"
   ]
  },
  {
   "cell_type": "code",
   "execution_count": 19,
   "id": "1906e396",
   "metadata": {},
   "outputs": [],
   "source": [
    "#Marking nonnumerical values as missing\n",
    "df.loc[df['price']=='Contact For Price','price']=np.nan"
   ]
  },
  {
   "cell_type": "code",
   "execution_count": 20,
   "id": "8de5a192",
   "metadata": {},
   "outputs": [
    {
     "name": "stderr",
     "output_type": "stream",
     "text": [
      "C:\\Users\\munav\\AppData\\Local\\Temp\\ipykernel_32892\\1135201678.py:2: FutureWarning: The default value of regex will change from True to False in a future version. In addition, single character regular expressions will *not* be treated as literal strings when regex=True.\n",
      "  df['price']=df['price'].str.replace('$', '')\n"
     ]
    },
    {
     "data": {
      "text/plain": [
       "city         object\n",
       "address      object\n",
       "address2     object\n",
       "price       float64\n",
       "beds        float64\n",
       "baths       float64\n",
       "sqft        float64\n",
       "sqftlot     float64\n",
       "zip          object\n",
       "state        object\n",
       "dtype: object"
      ]
     },
     "execution_count": 20,
     "metadata": {},
     "output_type": "execute_result"
    }
   ],
   "source": [
    "#Converting strings into floats\n",
    "df['price']=df['price'].str.replace('$', '')\n",
    "df['price']=df['price'].str.replace(',', '')\n",
    "df['price']=df['price'].str.strip()\n",
    "df['price']=pd.to_numeric(df['price'], errors='coerce')\n",
    "df['beds']=pd.to_numeric(df['beds'], errors='coerce')\n",
    "df['baths']=pd.to_numeric(df['baths'], errors='coerce')\n",
    "df['sqft']=df['sqft'].str.replace(',', '')\n",
    "df['sqft']=pd.to_numeric(df['sqft'], errors='coerce')\n",
    "df['sqftlot']=df['sqftlot'].str.replace(',', '')\n",
    "df['sqftlot']=pd.to_numeric(df['sqftlot'], errors='coerce')\n",
    "df.dtypes"
   ]
  },
  {
   "cell_type": "code",
   "execution_count": 21,
   "id": "8d82d5e4",
   "metadata": {
    "scrolled": true
   },
   "outputs": [
    {
     "data": {
      "text/plain": [
       "NaN       9652\n",
       "1200.0     482\n",
       "1000.0     304\n",
       "1600.0     281\n",
       "1800.0     272\n",
       "          ... \n",
       "5198.0       1\n",
       "601.0        1\n",
       "5231.0       1\n",
       "3643.0       1\n",
       "3389.0       1\n",
       "Name: sqft, Length: 5081, dtype: int64"
      ]
     },
     "execution_count": 21,
     "metadata": {},
     "output_type": "execute_result"
    }
   ],
   "source": [
    "df['sqft'].value_counts(dropna=False)"
   ]
  },
  {
   "cell_type": "code",
   "execution_count": 22,
   "id": "d3d8f981",
   "metadata": {},
   "outputs": [
    {
     "data": {
      "text/plain": [
       "350000.0     391\n",
       "275000.0     345\n",
       "599000.0     332\n",
       "250000.0     331\n",
       "375000.0     317\n",
       "            ... \n",
       "3075000.0      1\n",
       "2039900.0      1\n",
       "1069589.0      1\n",
       "186900.0       1\n",
       "3890000.0      1\n",
       "Name: price, Length: 7141, dtype: int64"
      ]
     },
     "execution_count": 22,
     "metadata": {},
     "output_type": "execute_result"
    }
   ],
   "source": [
    "df['price'].value_counts(dropna=False)"
   ]
  },
  {
   "cell_type": "code",
   "execution_count": 23,
   "id": "041d7d30",
   "metadata": {},
   "outputs": [],
   "source": [
    "#Converting lots in acre into sqft- Multiplying lots which are smaller than building by 43560\n",
    "df.loc[df['sqftlot']<df['sqft'], 'sqftlot']*=43560"
   ]
  },
  {
   "cell_type": "code",
   "execution_count": 24,
   "id": "d31e6e19",
   "metadata": {},
   "outputs": [],
   "source": [
    "#Creating price per sqft and price per sqftlot columns\n",
    "df['price_per_sqft']=df['price']/df['sqft']\n",
    "df['price_per_sqft_lot']=df['price']/df['sqftlot']"
   ]
  },
  {
   "cell_type": "markdown",
   "id": "9051ce02",
   "metadata": {},
   "source": [
    "# 03. Data cleaning"
   ]
  },
  {
   "cell_type": "markdown",
   "id": "0a31a4db",
   "metadata": {},
   "source": [
    "### a. Finding and addressing missing values"
   ]
  },
  {
   "cell_type": "code",
   "execution_count": 25,
   "id": "2dd566d9",
   "metadata": {},
   "outputs": [
    {
     "data": {
      "text/plain": [
       "city                      0\n",
       "address                 145\n",
       "address2                  2\n",
       "price                    87\n",
       "beds                   5428\n",
       "baths                  6261\n",
       "sqft                   9652\n",
       "sqftlot               16079\n",
       "zip                      71\n",
       "state                    62\n",
       "price_per_sqft         9727\n",
       "price_per_sqft_lot    16111\n",
       "dtype: int64"
      ]
     },
     "execution_count": 25,
     "metadata": {},
     "output_type": "execute_result"
    }
   ],
   "source": [
    "#Finding missing values\n",
    "df.isnull().sum()"
   ]
  },
  {
   "cell_type": "code",
   "execution_count": 26,
   "id": "afc1da7f",
   "metadata": {},
   "outputs": [
    {
     "data": {
      "text/html": [
       "<div>\n",
       "<style scoped>\n",
       "    .dataframe tbody tr th:only-of-type {\n",
       "        vertical-align: middle;\n",
       "    }\n",
       "\n",
       "    .dataframe tbody tr th {\n",
       "        vertical-align: top;\n",
       "    }\n",
       "\n",
       "    .dataframe thead th {\n",
       "        text-align: right;\n",
       "    }\n",
       "</style>\n",
       "<table border=\"1\" class=\"dataframe\">\n",
       "  <thead>\n",
       "    <tr style=\"text-align: right;\">\n",
       "      <th></th>\n",
       "      <th>city</th>\n",
       "      <th>address</th>\n",
       "      <th>address2</th>\n",
       "      <th>price</th>\n",
       "      <th>beds</th>\n",
       "      <th>baths</th>\n",
       "      <th>sqft</th>\n",
       "      <th>sqftlot</th>\n",
       "      <th>zip</th>\n",
       "      <th>state</th>\n",
       "      <th>price_per_sqft</th>\n",
       "      <th>price_per_sqft_lot</th>\n",
       "    </tr>\n",
       "  </thead>\n",
       "  <tbody>\n",
       "    <tr>\n",
       "      <th>113</th>\n",
       "      <td>Chicago</td>\n",
       "      <td>10419 S Avenue N</td>\n",
       "      <td>Chicago,, IL, ,60617</td>\n",
       "      <td>NaN</td>\n",
       "      <td>3.0</td>\n",
       "      <td>1.0</td>\n",
       "      <td>1144.0</td>\n",
       "      <td>4661.0</td>\n",
       "      <td>60617</td>\n",
       "      <td>Illinois</td>\n",
       "      <td>NaN</td>\n",
       "      <td>NaN</td>\n",
       "    </tr>\n",
       "    <tr>\n",
       "      <th>211</th>\n",
       "      <td>Chicago</td>\n",
       "      <td>24 E 99th Pl</td>\n",
       "      <td>Chicago,, IL, ,60628</td>\n",
       "      <td>NaN</td>\n",
       "      <td>3.0</td>\n",
       "      <td>2.0</td>\n",
       "      <td>764.0</td>\n",
       "      <td>NaN</td>\n",
       "      <td>60628</td>\n",
       "      <td>Illinois</td>\n",
       "      <td>NaN</td>\n",
       "      <td>NaN</td>\n",
       "    </tr>\n",
       "    <tr>\n",
       "      <th>486</th>\n",
       "      <td>Chicago</td>\n",
       "      <td>7425 S Harvard Ave</td>\n",
       "      <td>Chicago,, IL, ,60621</td>\n",
       "      <td>NaN</td>\n",
       "      <td>4.0</td>\n",
       "      <td>4.0</td>\n",
       "      <td>NaN</td>\n",
       "      <td>3920.0</td>\n",
       "      <td>60621</td>\n",
       "      <td>Illinois</td>\n",
       "      <td>NaN</td>\n",
       "      <td>NaN</td>\n",
       "    </tr>\n",
       "    <tr>\n",
       "      <th>505</th>\n",
       "      <td>Chicago</td>\n",
       "      <td>743 E 84th Pl Apt 3W</td>\n",
       "      <td>Chicago,, IL, ,60619</td>\n",
       "      <td>NaN</td>\n",
       "      <td>2.0</td>\n",
       "      <td>1.0</td>\n",
       "      <td>832.0</td>\n",
       "      <td>NaN</td>\n",
       "      <td>60619</td>\n",
       "      <td>Illinois</td>\n",
       "      <td>NaN</td>\n",
       "      <td>NaN</td>\n",
       "    </tr>\n",
       "    <tr>\n",
       "      <th>506</th>\n",
       "      <td>Chicago</td>\n",
       "      <td>10838 S Homan Ave</td>\n",
       "      <td>Chicago,, IL, ,60655</td>\n",
       "      <td>NaN</td>\n",
       "      <td>3.0</td>\n",
       "      <td>1.0</td>\n",
       "      <td>644.0</td>\n",
       "      <td>6142.0</td>\n",
       "      <td>60655</td>\n",
       "      <td>Illinois</td>\n",
       "      <td>NaN</td>\n",
       "      <td>NaN</td>\n",
       "    </tr>\n",
       "  </tbody>\n",
       "</table>\n",
       "</div>"
      ],
      "text/plain": [
       "        city               address              address2  price  beds  baths  \\\n",
       "113  Chicago      10419 S Avenue N  Chicago,, IL, ,60617    NaN   3.0    1.0   \n",
       "211  Chicago          24 E 99th Pl  Chicago,, IL, ,60628    NaN   3.0    2.0   \n",
       "486  Chicago    7425 S Harvard Ave  Chicago,, IL, ,60621    NaN   4.0    4.0   \n",
       "505  Chicago  743 E 84th Pl Apt 3W  Chicago,, IL, ,60619    NaN   2.0    1.0   \n",
       "506  Chicago     10838 S Homan Ave  Chicago,, IL, ,60655    NaN   3.0    1.0   \n",
       "\n",
       "       sqft  sqftlot    zip     state  price_per_sqft  price_per_sqft_lot  \n",
       "113  1144.0   4661.0  60617  Illinois             NaN                 NaN  \n",
       "211   764.0      NaN  60628  Illinois             NaN                 NaN  \n",
       "486     NaN   3920.0  60621  Illinois             NaN                 NaN  \n",
       "505   832.0      NaN  60619  Illinois             NaN                 NaN  \n",
       "506   644.0   6142.0  60655  Illinois             NaN                 NaN  "
      ]
     },
     "execution_count": 26,
     "metadata": {},
     "output_type": "execute_result"
    }
   ],
   "source": [
    "#Missing values in price column\n",
    "df_missing=df[df['price'].isnull()]\n",
    "df_missing.head()"
   ]
  },
  {
   "cell_type": "code",
   "execution_count": 27,
   "id": "237dfb74",
   "metadata": {},
   "outputs": [
    {
     "data": {
      "text/plain": [
       "Illinois      40\n",
       "Texas         38\n",
       "Arizona        7\n",
       "NaN            1\n",
       "California     1\n",
       "Name: state, dtype: int64"
      ]
     },
     "execution_count": 27,
     "metadata": {},
     "output_type": "execute_result"
    }
   ],
   "source": [
    "df_missing['state'].value_counts(dropna=False)"
   ]
  },
  {
   "cell_type": "code",
   "execution_count": 28,
   "id": "a5c9e300",
   "metadata": {},
   "outputs": [
    {
     "data": {
      "text/plain": [
       "Chicago        40\n",
       "San Antonio    31\n",
       "Houston         7\n",
       "Phoenix         7\n",
       "San Diego       2\n",
       "Name: city, dtype: int64"
      ]
     },
     "execution_count": 28,
     "metadata": {},
     "output_type": "execute_result"
    }
   ],
   "source": [
    "df_missing['city'].value_counts(dropna=False)"
   ]
  },
  {
   "cell_type": "code",
   "execution_count": 29,
   "id": "29270159",
   "metadata": {},
   "outputs": [
    {
     "data": {
      "text/plain": [
       "78109    18\n",
       "77048     7\n",
       "60628     7\n",
       "78260     5\n",
       "78222     5\n",
       "85054     5\n",
       "          3\n",
       "60617     3\n",
       "78253     3\n",
       "60643     2\n",
       "60623     2\n",
       "60620     2\n",
       "60609     2\n",
       "60655     2\n",
       "60619     2\n",
       "60618     2\n",
       "60621     2\n",
       "60611     2\n",
       "60602     1\n",
       "60636     1\n",
       "60625     1\n",
       "60608     1\n",
       "60654     1\n",
       "60651     1\n",
       "60637     1\n",
       "60649     1\n",
       "60653     1\n",
       "60641     1\n",
       "60612     1\n",
       "60644     1\n",
       "NaN       1\n",
       "Name: zip, dtype: int64"
      ]
     },
     "execution_count": 29,
     "metadata": {},
     "output_type": "execute_result"
    }
   ],
   "source": [
    "df_missing['zip'].value_counts(dropna=False)"
   ]
  },
  {
   "cell_type": "markdown",
   "id": "6317c122",
   "metadata": {},
   "source": [
    "#### Missing values in price seems to be random and makes up only 0.1% of the data. Seeing that our analysis is aimed at comparing house prices, we can remove the missing rows."
   ]
  },
  {
   "cell_type": "code",
   "execution_count": 30,
   "id": "2c11235c",
   "metadata": {},
   "outputs": [
    {
     "data": {
      "text/plain": [
       "(60803, 12)"
      ]
     },
     "execution_count": 30,
     "metadata": {},
     "output_type": "execute_result"
    }
   ],
   "source": [
    "#Removing missing 87 prices\n",
    "df.dropna(subset=['price'], inplace=True)\n",
    "df.shape"
   ]
  },
  {
   "cell_type": "code",
   "execution_count": 31,
   "id": "5c4b2cfb",
   "metadata": {},
   "outputs": [
    {
     "data": {
      "text/plain": [
       "Chicago        20\n",
       "New York       19\n",
       "Los Angeles    15\n",
       "Dallas          7\n",
       "Name: city, dtype: int64"
      ]
     },
     "execution_count": 31,
     "metadata": {},
     "output_type": "execute_result"
    }
   ],
   "source": [
    "#Missing values in State\n",
    "df_missing=df[df['state'].isnull()]\n",
    "df_missing['city'].value_counts(dropna=False)"
   ]
  },
  {
   "cell_type": "code",
   "execution_count": 32,
   "id": "a003894b",
   "metadata": {},
   "outputs": [
    {
     "data": {
      "text/plain": [
       "Series([], Name: city, dtype: int64)"
      ]
     },
     "execution_count": 32,
     "metadata": {},
     "output_type": "execute_result"
    }
   ],
   "source": [
    "#Filling in states for the 10 cities under observation\n",
    "df.loc[df['city']=='Chicago', 'state']='Illinois'\n",
    "df.loc[df['city']=='Los Angeles', 'state']='California'\n",
    "df.loc[df['city']=='New York', 'state']='New York'\n",
    "df.loc[df['city']=='Dallas', 'state']='Texas'\n",
    "df.loc[df['city']=='Brooklyn', 'state']='New York'\n",
    "df.loc[df['city']=='Flushing', 'state']='New York'\n",
    "df.loc[df['city']=='Bronx', 'state']='New York'\n",
    "df_missing=df[df['state'].isnull()]\n",
    "df_missing['city'].value_counts(dropna=False)"
   ]
  },
  {
   "cell_type": "code",
   "execution_count": 33,
   "id": "fcc812a0",
   "metadata": {},
   "outputs": [
    {
     "data": {
      "text/plain": [
       "Series([], Name: zip, dtype: int64)"
      ]
     },
     "execution_count": 33,
     "metadata": {},
     "output_type": "execute_result"
    }
   ],
   "source": [
    "df_missing['zip'].value_counts(dropna=False)"
   ]
  },
  {
   "cell_type": "code",
   "execution_count": 34,
   "id": "86b9a210",
   "metadata": {},
   "outputs": [
    {
     "data": {
      "text/plain": [
       "Series([], Name: sqft, dtype: int64)"
      ]
     },
     "execution_count": 34,
     "metadata": {},
     "output_type": "execute_result"
    }
   ],
   "source": [
    "df_missing['sqft'].value_counts(dropna=False)"
   ]
  },
  {
   "cell_type": "code",
   "execution_count": 35,
   "id": "db33d369",
   "metadata": {},
   "outputs": [
    {
     "data": {
      "text/plain": [
       "NaN       2817\n",
       "3125.0     342\n",
       "3049.0     149\n",
       "2500.0     136\n",
       "2000.0     116\n",
       "          ... \n",
       "7538.0       1\n",
       "6867.0       1\n",
       "5452.0       1\n",
       "100.0        1\n",
       "9439.0       1\n",
       "Name: sqftlot, Length: 2186, dtype: int64"
      ]
     },
     "execution_count": 35,
     "metadata": {},
     "output_type": "execute_result"
    }
   ],
   "source": [
    "#Missing values in sqft\n",
    "df_missing=df[df['sqft'].isnull()]\n",
    "df_missing['sqftlot'].value_counts(dropna=False)"
   ]
  },
  {
   "cell_type": "code",
   "execution_count": 36,
   "id": "a5f6240c",
   "metadata": {},
   "outputs": [
    {
     "data": {
      "text/plain": [
       "(9640, 12)"
      ]
     },
     "execution_count": 36,
     "metadata": {},
     "output_type": "execute_result"
    }
   ],
   "source": [
    "df_missing.shape"
   ]
  },
  {
   "cell_type": "code",
   "execution_count": 37,
   "id": "ed098fd6",
   "metadata": {},
   "outputs": [
    {
     "data": {
      "text/plain": [
       "New York        2935\n",
       "Illinois        2655\n",
       "Pennsylvania    1597\n",
       "Texas           1276\n",
       "California       878\n",
       "Arizona          299\n",
       "Name: state, dtype: int64"
      ]
     },
     "execution_count": 37,
     "metadata": {},
     "output_type": "execute_result"
    }
   ],
   "source": [
    "df_missing['state'].value_counts(dropna=False)"
   ]
  },
  {
   "cell_type": "markdown",
   "id": "6a93e21a",
   "metadata": {},
   "source": [
    "#### We will keep the rows with missing sqft values, since we will also need to compare the overall prices."
   ]
  },
  {
   "cell_type": "markdown",
   "id": "b3e9348c",
   "metadata": {},
   "source": [
    "### b. Finding and addressing mixed data types"
   ]
  },
  {
   "cell_type": "code",
   "execution_count": 38,
   "id": "849544ae",
   "metadata": {},
   "outputs": [
    {
     "name": "stdout",
     "output_type": "stream",
     "text": [
      "address\n",
      "address2\n",
      "zip\n"
     ]
    }
   ],
   "source": [
    "#Finding mixed data column\n",
    "for col in df.columns.tolist():\n",
    "  weird = (df[[col]].applymap(type) != df[[col]].iloc[0].apply(type)).any(axis = 1)\n",
    "  if len (df[weird]) > 0:\n",
    "    print (col)"
   ]
  },
  {
   "cell_type": "code",
   "execution_count": 39,
   "id": "2925a120",
   "metadata": {},
   "outputs": [],
   "source": [
    "#Fixing mixed type data\n",
    "df['address']=df['address'].astype('str')\n",
    "df['address2']=df['address2'].astype('str')\n",
    "df['zip']=df['zip'].astype('str')"
   ]
  },
  {
   "cell_type": "code",
   "execution_count": 40,
   "id": "9ff4644e",
   "metadata": {},
   "outputs": [
    {
     "data": {
      "text/plain": [
       "city                   object\n",
       "address                object\n",
       "address2               object\n",
       "price                 float64\n",
       "beds                  float64\n",
       "baths                 float64\n",
       "sqft                  float64\n",
       "sqftlot               float64\n",
       "zip                    object\n",
       "state                  object\n",
       "price_per_sqft        float64\n",
       "price_per_sqft_lot    float64\n",
       "dtype: object"
      ]
     },
     "execution_count": 40,
     "metadata": {},
     "output_type": "execute_result"
    }
   ],
   "source": [
    "df.dtypes"
   ]
  },
  {
   "cell_type": "markdown",
   "id": "5e479be4",
   "metadata": {},
   "source": [
    "### c. Finding and addressing duplicate values"
   ]
  },
  {
   "cell_type": "code",
   "execution_count": 41,
   "id": "09c82851",
   "metadata": {},
   "outputs": [
    {
     "data": {
      "text/plain": [
       "(9881, 12)"
      ]
     },
     "execution_count": 41,
     "metadata": {},
     "output_type": "execute_result"
    }
   ],
   "source": [
    "#Finding duplicates\n",
    "df_dups = df[df.duplicated(['address', 'address2', 'price', 'beds', 'baths','sqft', 'sqftlot'])]\n",
    "df_dups.shape"
   ]
  },
  {
   "cell_type": "code",
   "execution_count": 42,
   "id": "86cdfd9e",
   "metadata": {},
   "outputs": [
    {
     "data": {
      "text/html": [
       "<div>\n",
       "<style scoped>\n",
       "    .dataframe tbody tr th:only-of-type {\n",
       "        vertical-align: middle;\n",
       "    }\n",
       "\n",
       "    .dataframe tbody tr th {\n",
       "        vertical-align: top;\n",
       "    }\n",
       "\n",
       "    .dataframe thead th {\n",
       "        text-align: right;\n",
       "    }\n",
       "</style>\n",
       "<table border=\"1\" class=\"dataframe\">\n",
       "  <thead>\n",
       "    <tr style=\"text-align: right;\">\n",
       "      <th></th>\n",
       "      <th>city</th>\n",
       "      <th>address</th>\n",
       "      <th>address2</th>\n",
       "      <th>price</th>\n",
       "      <th>beds</th>\n",
       "      <th>baths</th>\n",
       "      <th>sqft</th>\n",
       "      <th>sqftlot</th>\n",
       "      <th>zip</th>\n",
       "      <th>state</th>\n",
       "      <th>price_per_sqft</th>\n",
       "      <th>price_per_sqft_lot</th>\n",
       "    </tr>\n",
       "  </thead>\n",
       "  <tbody>\n",
       "    <tr>\n",
       "      <th>761</th>\n",
       "      <td>San Jose</td>\n",
       "      <td>839 N 14th St</td>\n",
       "      <td>San Jose,, CA, ,95112</td>\n",
       "      <td>599000.0</td>\n",
       "      <td>NaN</td>\n",
       "      <td>NaN</td>\n",
       "      <td>NaN</td>\n",
       "      <td>5227.00</td>\n",
       "      <td>95112</td>\n",
       "      <td>California</td>\n",
       "      <td>NaN</td>\n",
       "      <td>114.597283</td>\n",
       "    </tr>\n",
       "    <tr>\n",
       "      <th>768</th>\n",
       "      <td>San Jose</td>\n",
       "      <td>10868 Dougherty Ave</td>\n",
       "      <td>Morgan Hill,, CA, ,95037</td>\n",
       "      <td>1649000.0</td>\n",
       "      <td>NaN</td>\n",
       "      <td>NaN</td>\n",
       "      <td>NaN</td>\n",
       "      <td>10.01</td>\n",
       "      <td>95037</td>\n",
       "      <td>California</td>\n",
       "      <td>NaN</td>\n",
       "      <td>164735.264735</td>\n",
       "    </tr>\n",
       "    <tr>\n",
       "      <th>770</th>\n",
       "      <td>San Jose</td>\n",
       "      <td>5150 Felter Rd</td>\n",
       "      <td>San Jose,, CA, ,95132</td>\n",
       "      <td>2098000.0</td>\n",
       "      <td>4.0</td>\n",
       "      <td>2.5</td>\n",
       "      <td>2169.0</td>\n",
       "      <td>167270.40</td>\n",
       "      <td>95132</td>\n",
       "      <td>California</td>\n",
       "      <td>967.266021</td>\n",
       "      <td>12.542566</td>\n",
       "    </tr>\n",
       "    <tr>\n",
       "      <th>771</th>\n",
       "      <td>San Jose</td>\n",
       "      <td>11401 Clayton Rd</td>\n",
       "      <td>San Jose,, CA, ,95127</td>\n",
       "      <td>580000.0</td>\n",
       "      <td>NaN</td>\n",
       "      <td>NaN</td>\n",
       "      <td>NaN</td>\n",
       "      <td>1.35</td>\n",
       "      <td>95127</td>\n",
       "      <td>California</td>\n",
       "      <td>NaN</td>\n",
       "      <td>429629.629630</td>\n",
       "    </tr>\n",
       "    <tr>\n",
       "      <th>783</th>\n",
       "      <td>San Jose</td>\n",
       "      <td>Miradero Ave</td>\n",
       "      <td>San Jose,, CA, ,95127</td>\n",
       "      <td>400000.0</td>\n",
       "      <td>NaN</td>\n",
       "      <td>NaN</td>\n",
       "      <td>NaN</td>\n",
       "      <td>1.64</td>\n",
       "      <td>95127</td>\n",
       "      <td>California</td>\n",
       "      <td>NaN</td>\n",
       "      <td>243902.439024</td>\n",
       "    </tr>\n",
       "  </tbody>\n",
       "</table>\n",
       "</div>"
      ],
      "text/plain": [
       "         city              address                  address2      price  beds  \\\n",
       "761  San Jose        839 N 14th St     San Jose,, CA, ,95112   599000.0   NaN   \n",
       "768  San Jose  10868 Dougherty Ave  Morgan Hill,, CA, ,95037  1649000.0   NaN   \n",
       "770  San Jose       5150 Felter Rd     San Jose,, CA, ,95132  2098000.0   4.0   \n",
       "771  San Jose     11401 Clayton Rd     San Jose,, CA, ,95127   580000.0   NaN   \n",
       "783  San Jose         Miradero Ave     San Jose,, CA, ,95127   400000.0   NaN   \n",
       "\n",
       "     baths    sqft    sqftlot    zip       state  price_per_sqft  \\\n",
       "761    NaN     NaN    5227.00  95112  California             NaN   \n",
       "768    NaN     NaN      10.01  95037  California             NaN   \n",
       "770    2.5  2169.0  167270.40  95132  California      967.266021   \n",
       "771    NaN     NaN       1.35  95127  California             NaN   \n",
       "783    NaN     NaN       1.64  95127  California             NaN   \n",
       "\n",
       "     price_per_sqft_lot  \n",
       "761          114.597283  \n",
       "768       164735.264735  \n",
       "770           12.542566  \n",
       "771       429629.629630  \n",
       "783       243902.439024  "
      ]
     },
     "execution_count": 42,
     "metadata": {},
     "output_type": "execute_result"
    }
   ],
   "source": [
    "df_dups.tail()"
   ]
  },
  {
   "cell_type": "code",
   "execution_count": 43,
   "id": "5ac80430",
   "metadata": {
    "scrolled": true
   },
   "outputs": [
    {
     "data": {
      "text/html": [
       "<div>\n",
       "<style scoped>\n",
       "    .dataframe tbody tr th:only-of-type {\n",
       "        vertical-align: middle;\n",
       "    }\n",
       "\n",
       "    .dataframe tbody tr th {\n",
       "        vertical-align: top;\n",
       "    }\n",
       "\n",
       "    .dataframe thead th {\n",
       "        text-align: right;\n",
       "    }\n",
       "</style>\n",
       "<table border=\"1\" class=\"dataframe\">\n",
       "  <thead>\n",
       "    <tr style=\"text-align: right;\">\n",
       "      <th></th>\n",
       "      <th>city</th>\n",
       "      <th>address</th>\n",
       "      <th>address2</th>\n",
       "      <th>price</th>\n",
       "      <th>beds</th>\n",
       "      <th>baths</th>\n",
       "      <th>sqft</th>\n",
       "      <th>sqftlot</th>\n",
       "      <th>zip</th>\n",
       "      <th>state</th>\n",
       "      <th>price_per_sqft</th>\n",
       "      <th>price_per_sqft_lot</th>\n",
       "    </tr>\n",
       "  </thead>\n",
       "  <tbody>\n",
       "    <tr>\n",
       "      <th>625</th>\n",
       "      <td>San Jose</td>\n",
       "      <td>10868 Dougherty Ave</td>\n",
       "      <td>Morgan Hill,, CA, ,95037</td>\n",
       "      <td>1649000.0</td>\n",
       "      <td>NaN</td>\n",
       "      <td>NaN</td>\n",
       "      <td>NaN</td>\n",
       "      <td>10.01</td>\n",
       "      <td>95037</td>\n",
       "      <td>California</td>\n",
       "      <td>NaN</td>\n",
       "      <td>164735.264735</td>\n",
       "    </tr>\n",
       "    <tr>\n",
       "      <th>768</th>\n",
       "      <td>San Jose</td>\n",
       "      <td>10868 Dougherty Ave</td>\n",
       "      <td>Morgan Hill,, CA, ,95037</td>\n",
       "      <td>1649000.0</td>\n",
       "      <td>NaN</td>\n",
       "      <td>NaN</td>\n",
       "      <td>NaN</td>\n",
       "      <td>10.01</td>\n",
       "      <td>95037</td>\n",
       "      <td>California</td>\n",
       "      <td>NaN</td>\n",
       "      <td>164735.264735</td>\n",
       "    </tr>\n",
       "  </tbody>\n",
       "</table>\n",
       "</div>"
      ],
      "text/plain": [
       "         city              address                  address2      price  beds  \\\n",
       "625  San Jose  10868 Dougherty Ave  Morgan Hill,, CA, ,95037  1649000.0   NaN   \n",
       "768  San Jose  10868 Dougherty Ave  Morgan Hill,, CA, ,95037  1649000.0   NaN   \n",
       "\n",
       "     baths  sqft  sqftlot    zip       state  price_per_sqft  \\\n",
       "625    NaN   NaN    10.01  95037  California             NaN   \n",
       "768    NaN   NaN    10.01  95037  California             NaN   \n",
       "\n",
       "     price_per_sqft_lot  \n",
       "625       164735.264735  \n",
       "768       164735.264735  "
      ]
     },
     "execution_count": 43,
     "metadata": {},
     "output_type": "execute_result"
    }
   ],
   "source": [
    "df.loc[df['address']=='10868 Dougherty Ave']"
   ]
  },
  {
   "cell_type": "code",
   "execution_count": 44,
   "id": "4a7f822b",
   "metadata": {},
   "outputs": [
    {
     "data": {
      "text/html": [
       "<div>\n",
       "<style scoped>\n",
       "    .dataframe tbody tr th:only-of-type {\n",
       "        vertical-align: middle;\n",
       "    }\n",
       "\n",
       "    .dataframe tbody tr th {\n",
       "        vertical-align: top;\n",
       "    }\n",
       "\n",
       "    .dataframe thead th {\n",
       "        text-align: right;\n",
       "    }\n",
       "</style>\n",
       "<table border=\"1\" class=\"dataframe\">\n",
       "  <thead>\n",
       "    <tr style=\"text-align: right;\">\n",
       "      <th></th>\n",
       "      <th>city</th>\n",
       "      <th>address</th>\n",
       "      <th>address2</th>\n",
       "      <th>price</th>\n",
       "      <th>beds</th>\n",
       "      <th>baths</th>\n",
       "      <th>sqft</th>\n",
       "      <th>sqftlot</th>\n",
       "      <th>zip</th>\n",
       "      <th>state</th>\n",
       "      <th>price_per_sqft</th>\n",
       "      <th>price_per_sqft_lot</th>\n",
       "    </tr>\n",
       "  </thead>\n",
       "  <tbody>\n",
       "    <tr>\n",
       "      <th>188</th>\n",
       "      <td>Chicago</td>\n",
       "      <td>3001 S Michigan Ave Unit 1606</td>\n",
       "      <td>Chicago,, IL, ,60616</td>\n",
       "      <td>79000.0</td>\n",
       "      <td>NaN</td>\n",
       "      <td>1.0</td>\n",
       "      <td>575.0</td>\n",
       "      <td>NaN</td>\n",
       "      <td>60616</td>\n",
       "      <td>Illinois</td>\n",
       "      <td>137.391304</td>\n",
       "      <td>NaN</td>\n",
       "    </tr>\n",
       "    <tr>\n",
       "      <th>296</th>\n",
       "      <td>Chicago</td>\n",
       "      <td>4559 S King Dr Unit A6</td>\n",
       "      <td>Chicago,, IL, ,60653</td>\n",
       "      <td>304800.0</td>\n",
       "      <td>3.0</td>\n",
       "      <td>NaN</td>\n",
       "      <td>3000.0</td>\n",
       "      <td>NaN</td>\n",
       "      <td>60653</td>\n",
       "      <td>Illinois</td>\n",
       "      <td>101.600000</td>\n",
       "      <td>NaN</td>\n",
       "    </tr>\n",
       "    <tr>\n",
       "      <th>356</th>\n",
       "      <td>Chicago</td>\n",
       "      <td>10821 S Christiana Ave</td>\n",
       "      <td>Chicago,, IL, ,60655</td>\n",
       "      <td>324900.0</td>\n",
       "      <td>4.0</td>\n",
       "      <td>2.0</td>\n",
       "      <td>1960.0</td>\n",
       "      <td>74008440.0</td>\n",
       "      <td>60655</td>\n",
       "      <td>Illinois</td>\n",
       "      <td>165.765306</td>\n",
       "      <td>0.004390</td>\n",
       "    </tr>\n",
       "    <tr>\n",
       "      <th>431</th>\n",
       "      <td>Chicago</td>\n",
       "      <td>8133 S Christiana Ave</td>\n",
       "      <td>Chicago,, IL, ,60652</td>\n",
       "      <td>185000.0</td>\n",
       "      <td>4.0</td>\n",
       "      <td>3.0</td>\n",
       "      <td>1128.0</td>\n",
       "      <td>4373.0</td>\n",
       "      <td>60652</td>\n",
       "      <td>Illinois</td>\n",
       "      <td>164.007092</td>\n",
       "      <td>42.305054</td>\n",
       "    </tr>\n",
       "    <tr>\n",
       "      <th>529</th>\n",
       "      <td>Chicago</td>\n",
       "      <td>8219 S Chappel Ave</td>\n",
       "      <td>Chicago,, IL, ,60617</td>\n",
       "      <td>250000.0</td>\n",
       "      <td>4.0</td>\n",
       "      <td>2.0</td>\n",
       "      <td>NaN</td>\n",
       "      <td>NaN</td>\n",
       "      <td>60617</td>\n",
       "      <td>Illinois</td>\n",
       "      <td>NaN</td>\n",
       "      <td>NaN</td>\n",
       "    </tr>\n",
       "  </tbody>\n",
       "</table>\n",
       "</div>"
      ],
      "text/plain": [
       "        city                        address              address2     price  \\\n",
       "188  Chicago  3001 S Michigan Ave Unit 1606  Chicago,, IL, ,60616   79000.0   \n",
       "296  Chicago         4559 S King Dr Unit A6  Chicago,, IL, ,60653  304800.0   \n",
       "356  Chicago         10821 S Christiana Ave  Chicago,, IL, ,60655  324900.0   \n",
       "431  Chicago          8133 S Christiana Ave  Chicago,, IL, ,60652  185000.0   \n",
       "529  Chicago             8219 S Chappel Ave  Chicago,, IL, ,60617  250000.0   \n",
       "\n",
       "     beds  baths    sqft     sqftlot    zip     state  price_per_sqft  \\\n",
       "188   NaN    1.0   575.0         NaN  60616  Illinois      137.391304   \n",
       "296   3.0    NaN  3000.0         NaN  60653  Illinois      101.600000   \n",
       "356   4.0    2.0  1960.0  74008440.0  60655  Illinois      165.765306   \n",
       "431   4.0    3.0  1128.0      4373.0  60652  Illinois      164.007092   \n",
       "529   4.0    2.0     NaN         NaN  60617  Illinois             NaN   \n",
       "\n",
       "     price_per_sqft_lot  \n",
       "188                 NaN  \n",
       "296                 NaN  \n",
       "356            0.004390  \n",
       "431           42.305054  \n",
       "529                 NaN  "
      ]
     },
     "execution_count": 44,
     "metadata": {},
     "output_type": "execute_result"
    }
   ],
   "source": [
    "df_dups.head()"
   ]
  },
  {
   "cell_type": "code",
   "execution_count": 45,
   "id": "8efc039a",
   "metadata": {},
   "outputs": [
    {
     "data": {
      "text/html": [
       "<div>\n",
       "<style scoped>\n",
       "    .dataframe tbody tr th:only-of-type {\n",
       "        vertical-align: middle;\n",
       "    }\n",
       "\n",
       "    .dataframe tbody tr th {\n",
       "        vertical-align: top;\n",
       "    }\n",
       "\n",
       "    .dataframe thead th {\n",
       "        text-align: right;\n",
       "    }\n",
       "</style>\n",
       "<table border=\"1\" class=\"dataframe\">\n",
       "  <thead>\n",
       "    <tr style=\"text-align: right;\">\n",
       "      <th></th>\n",
       "      <th>city</th>\n",
       "      <th>address</th>\n",
       "      <th>address2</th>\n",
       "      <th>price</th>\n",
       "      <th>beds</th>\n",
       "      <th>baths</th>\n",
       "      <th>sqft</th>\n",
       "      <th>sqftlot</th>\n",
       "      <th>zip</th>\n",
       "      <th>state</th>\n",
       "      <th>price_per_sqft</th>\n",
       "      <th>price_per_sqft_lot</th>\n",
       "    </tr>\n",
       "  </thead>\n",
       "  <tbody>\n",
       "    <tr>\n",
       "      <th>177</th>\n",
       "      <td>Chicago</td>\n",
       "      <td>4559 S King Dr Unit A6</td>\n",
       "      <td>Chicago,, IL, ,60653</td>\n",
       "      <td>304800.0</td>\n",
       "      <td>3.0</td>\n",
       "      <td>NaN</td>\n",
       "      <td>3000.0</td>\n",
       "      <td>NaN</td>\n",
       "      <td>60653</td>\n",
       "      <td>Illinois</td>\n",
       "      <td>101.6</td>\n",
       "      <td>NaN</td>\n",
       "    </tr>\n",
       "    <tr>\n",
       "      <th>296</th>\n",
       "      <td>Chicago</td>\n",
       "      <td>4559 S King Dr Unit A6</td>\n",
       "      <td>Chicago,, IL, ,60653</td>\n",
       "      <td>304800.0</td>\n",
       "      <td>3.0</td>\n",
       "      <td>NaN</td>\n",
       "      <td>3000.0</td>\n",
       "      <td>NaN</td>\n",
       "      <td>60653</td>\n",
       "      <td>Illinois</td>\n",
       "      <td>101.6</td>\n",
       "      <td>NaN</td>\n",
       "    </tr>\n",
       "  </tbody>\n",
       "</table>\n",
       "</div>"
      ],
      "text/plain": [
       "        city                 address              address2     price  beds  \\\n",
       "177  Chicago  4559 S King Dr Unit A6  Chicago,, IL, ,60653  304800.0   3.0   \n",
       "296  Chicago  4559 S King Dr Unit A6  Chicago,, IL, ,60653  304800.0   3.0   \n",
       "\n",
       "     baths    sqft  sqftlot    zip     state  price_per_sqft  \\\n",
       "177    NaN  3000.0      NaN  60653  Illinois           101.6   \n",
       "296    NaN  3000.0      NaN  60653  Illinois           101.6   \n",
       "\n",
       "     price_per_sqft_lot  \n",
       "177                 NaN  \n",
       "296                 NaN  "
      ]
     },
     "execution_count": 45,
     "metadata": {},
     "output_type": "execute_result"
    }
   ],
   "source": [
    "df.loc[df['address']=='4559 S King Dr Unit A6']"
   ]
  },
  {
   "cell_type": "code",
   "execution_count": 46,
   "id": "c1061d82",
   "metadata": {},
   "outputs": [
    {
     "data": {
      "text/plain": [
       "(50922, 12)"
      ]
     },
     "execution_count": 46,
     "metadata": {},
     "output_type": "execute_result"
    }
   ],
   "source": [
    "#Removing duplicated values\n",
    "df=df.drop_duplicates(subset=(['address', 'address2', 'price', 'beds', 'baths','sqft', 'sqftlot']), keep='last')\n",
    "df.shape"
   ]
  },
  {
   "cell_type": "markdown",
   "id": "18a65837",
   "metadata": {},
   "source": [
    "# 04. Additional cleaning and merging"
   ]
  },
  {
   "cell_type": "markdown",
   "id": "738ae4ec",
   "metadata": {},
   "source": [
    "### a. Checking for outliers"
   ]
  },
  {
   "cell_type": "code",
   "execution_count": 47,
   "id": "72e04039",
   "metadata": {},
   "outputs": [
    {
     "data": {
      "text/plain": [
       "(50922, 11)"
      ]
     },
     "execution_count": 47,
     "metadata": {},
     "output_type": "execute_result"
    }
   ],
   "source": [
    "#Dropping address2 column\n",
    "df=df.drop(columns=['address2'])\n",
    "df.shape"
   ]
  },
  {
   "cell_type": "code",
   "execution_count": 48,
   "id": "0105e0c0",
   "metadata": {},
   "outputs": [
    {
     "data": {
      "image/png": "[encoded data removed]",
      "text/plain": [
       "<Figure size 640x480 with 1 Axes>"
      ]
     },
     "metadata": {},
     "output_type": "display_data"
    }
   ],
   "source": [
    "#Checking for outliers in price column\n",
    "sns.histplot(df['price'], bins = 20, kde = True)\n",
    "plt.ticklabel_format(style='plain', axis='x')"
   ]
  },
  {
   "cell_type": "code",
   "execution_count": 49,
   "id": "7fc38893",
   "metadata": {},
   "outputs": [
    {
     "data": {
      "text/plain": [
       "(47524, 11)"
      ]
     },
     "execution_count": 49,
     "metadata": {},
     "output_type": "execute_result"
    }
   ],
   "source": [
    "#Since we are interested in houses which are in inhabitable condition and ready to move in, we will remove rows containing sqftlot information without information about sqft, beds and baths.\n",
    "df.loc[(df['sqft'].isnull())&(df['beds'].isnull())&(df['baths'].isnull())&(df['sqftlot'].notnull()), 'price']=np.nan\n",
    "df.dropna(subset=['price'], inplace=True)\n",
    "df.shape\n"
   ]
  },
  {
   "cell_type": "code",
   "execution_count": 50,
   "id": "8b6fa87c",
   "metadata": {},
   "outputs": [
    {
     "data": {
      "text/html": [
       "<div>\n",
       "<style scoped>\n",
       "    .dataframe tbody tr th:only-of-type {\n",
       "        vertical-align: middle;\n",
       "    }\n",
       "\n",
       "    .dataframe tbody tr th {\n",
       "        vertical-align: top;\n",
       "    }\n",
       "\n",
       "    .dataframe thead th {\n",
       "        text-align: right;\n",
       "    }\n",
       "</style>\n",
       "<table border=\"1\" class=\"dataframe\">\n",
       "  <thead>\n",
       "    <tr style=\"text-align: right;\">\n",
       "      <th></th>\n",
       "      <th>city</th>\n",
       "      <th>address</th>\n",
       "      <th>price</th>\n",
       "      <th>beds</th>\n",
       "      <th>baths</th>\n",
       "      <th>sqft</th>\n",
       "      <th>sqftlot</th>\n",
       "      <th>zip</th>\n",
       "      <th>state</th>\n",
       "      <th>price_per_sqft</th>\n",
       "      <th>price_per_sqft_lot</th>\n",
       "    </tr>\n",
       "  </thead>\n",
       "  <tbody>\n",
       "    <tr>\n",
       "      <th>2</th>\n",
       "      <td>Chicago</td>\n",
       "      <td>4111 W Washington Blvd</td>\n",
       "      <td>20000.0</td>\n",
       "      <td>3.0</td>\n",
       "      <td>2.0</td>\n",
       "      <td>NaN</td>\n",
       "      <td>3125.0</td>\n",
       "      <td>60624</td>\n",
       "      <td>Illinois</td>\n",
       "      <td>NaN</td>\n",
       "      <td>6.400000</td>\n",
       "    </tr>\n",
       "    <tr>\n",
       "      <th>101</th>\n",
       "      <td>Chicago</td>\n",
       "      <td>10205 S Perry Ave</td>\n",
       "      <td>29900.0</td>\n",
       "      <td>2.0</td>\n",
       "      <td>1.0</td>\n",
       "      <td>1000.0</td>\n",
       "      <td>3075.0</td>\n",
       "      <td>60628</td>\n",
       "      <td>Illinois</td>\n",
       "      <td>29.900000</td>\n",
       "      <td>9.723577</td>\n",
       "    </tr>\n",
       "    <tr>\n",
       "      <th>467</th>\n",
       "      <td>Chicago</td>\n",
       "      <td>5330 S Lowe Ave</td>\n",
       "      <td>18000.0</td>\n",
       "      <td>3.0</td>\n",
       "      <td>1.0</td>\n",
       "      <td>996.0</td>\n",
       "      <td>3125.0</td>\n",
       "      <td>60609</td>\n",
       "      <td>Illinois</td>\n",
       "      <td>18.072289</td>\n",
       "      <td>5.760000</td>\n",
       "    </tr>\n",
       "    <tr>\n",
       "      <th>786</th>\n",
       "      <td>Chicago</td>\n",
       "      <td>214 W 106th Pl</td>\n",
       "      <td>25000.0</td>\n",
       "      <td>4.0</td>\n",
       "      <td>1.0</td>\n",
       "      <td>NaN</td>\n",
       "      <td>3123.0</td>\n",
       "      <td>60628</td>\n",
       "      <td>Illinois</td>\n",
       "      <td>NaN</td>\n",
       "      <td>8.005123</td>\n",
       "    </tr>\n",
       "    <tr>\n",
       "      <th>1177</th>\n",
       "      <td>Chicago</td>\n",
       "      <td>908 W 71st St</td>\n",
       "      <td>28900.0</td>\n",
       "      <td>3.0</td>\n",
       "      <td>1.0</td>\n",
       "      <td>1023.0</td>\n",
       "      <td>3125.0</td>\n",
       "      <td>60621</td>\n",
       "      <td>Illinois</td>\n",
       "      <td>28.250244</td>\n",
       "      <td>9.248000</td>\n",
       "    </tr>\n",
       "    <tr>\n",
       "      <th>1246</th>\n",
       "      <td>Chicago</td>\n",
       "      <td>8039 S Union Ave</td>\n",
       "      <td>24900.0</td>\n",
       "      <td>2.0</td>\n",
       "      <td>1.0</td>\n",
       "      <td>930.0</td>\n",
       "      <td>NaN</td>\n",
       "      <td>60620</td>\n",
       "      <td>Illinois</td>\n",
       "      <td>26.774194</td>\n",
       "      <td>NaN</td>\n",
       "    </tr>\n",
       "    <tr>\n",
       "      <th>1648</th>\n",
       "      <td>Chicago</td>\n",
       "      <td>10241 S Wentworth Ave</td>\n",
       "      <td>29100.0</td>\n",
       "      <td>3.0</td>\n",
       "      <td>1.0</td>\n",
       "      <td>1303.0</td>\n",
       "      <td>NaN</td>\n",
       "      <td>60628</td>\n",
       "      <td>Illinois</td>\n",
       "      <td>22.333078</td>\n",
       "      <td>NaN</td>\n",
       "    </tr>\n",
       "    <tr>\n",
       "      <th>1932</th>\n",
       "      <td>Chicago</td>\n",
       "      <td>12049 S LA Salle St</td>\n",
       "      <td>29000.0</td>\n",
       "      <td>4.0</td>\n",
       "      <td>4.0</td>\n",
       "      <td>NaN</td>\n",
       "      <td>3750.0</td>\n",
       "      <td>60628</td>\n",
       "      <td>Illinois</td>\n",
       "      <td>NaN</td>\n",
       "      <td>7.733333</td>\n",
       "    </tr>\n",
       "    <tr>\n",
       "      <th>1977</th>\n",
       "      <td>Chicago</td>\n",
       "      <td>7835 S Sangamon St</td>\n",
       "      <td>15000.0</td>\n",
       "      <td>2.0</td>\n",
       "      <td>1.0</td>\n",
       "      <td>1030.0</td>\n",
       "      <td>NaN</td>\n",
       "      <td>60620</td>\n",
       "      <td>Illinois</td>\n",
       "      <td>14.563107</td>\n",
       "      <td>NaN</td>\n",
       "    </tr>\n",
       "    <tr>\n",
       "      <th>2751</th>\n",
       "      <td>Chicago</td>\n",
       "      <td>1430 W 115th St</td>\n",
       "      <td>19900.0</td>\n",
       "      <td>4.0</td>\n",
       "      <td>2.0</td>\n",
       "      <td>912.0</td>\n",
       "      <td>6199.0</td>\n",
       "      <td>60643</td>\n",
       "      <td>Illinois</td>\n",
       "      <td>21.820175</td>\n",
       "      <td>3.210195</td>\n",
       "    </tr>\n",
       "    <tr>\n",
       "      <th>3417</th>\n",
       "      <td>Chicago</td>\n",
       "      <td>519 E 92nd St</td>\n",
       "      <td>12000.0</td>\n",
       "      <td>NaN</td>\n",
       "      <td>NaN</td>\n",
       "      <td>NaN</td>\n",
       "      <td>NaN</td>\n",
       "      <td>60619</td>\n",
       "      <td>Illinois</td>\n",
       "      <td>NaN</td>\n",
       "      <td>NaN</td>\n",
       "    </tr>\n",
       "    <tr>\n",
       "      <th>182</th>\n",
       "      <td>Chicago</td>\n",
       "      <td>221 W 106th St</td>\n",
       "      <td>18000.0</td>\n",
       "      <td>NaN</td>\n",
       "      <td>NaN</td>\n",
       "      <td>NaN</td>\n",
       "      <td>NaN</td>\n",
       "      <td>60628</td>\n",
       "      <td>Illinois</td>\n",
       "      <td>NaN</td>\n",
       "      <td>NaN</td>\n",
       "    </tr>\n",
       "    <tr>\n",
       "      <th>1767</th>\n",
       "      <td>Chicago</td>\n",
       "      <td>3806 W Washington Blvd Unit Dg</td>\n",
       "      <td>29000.0</td>\n",
       "      <td>1.0</td>\n",
       "      <td>1.0</td>\n",
       "      <td>700.0</td>\n",
       "      <td>NaN</td>\n",
       "      <td>60624</td>\n",
       "      <td>Illinois</td>\n",
       "      <td>41.428571</td>\n",
       "      <td>NaN</td>\n",
       "    </tr>\n",
       "    <tr>\n",
       "      <th>363</th>\n",
       "      <td>Chicago</td>\n",
       "      <td>1009 W Marquette Rd</td>\n",
       "      <td>24900.0</td>\n",
       "      <td>4.0</td>\n",
       "      <td>2.0</td>\n",
       "      <td>1318.0</td>\n",
       "      <td>1851.0</td>\n",
       "      <td>60621</td>\n",
       "      <td>Illinois</td>\n",
       "      <td>18.892261</td>\n",
       "      <td>13.452188</td>\n",
       "    </tr>\n",
       "    <tr>\n",
       "      <th>1014</th>\n",
       "      <td>Chicago</td>\n",
       "      <td>6545 S Emerald Ave</td>\n",
       "      <td>25000.0</td>\n",
       "      <td>3.0</td>\n",
       "      <td>2.0</td>\n",
       "      <td>1153.0</td>\n",
       "      <td>2831.0</td>\n",
       "      <td>60621</td>\n",
       "      <td>Illinois</td>\n",
       "      <td>21.682567</td>\n",
       "      <td>8.830802</td>\n",
       "    </tr>\n",
       "    <tr>\n",
       "      <th>1414</th>\n",
       "      <td>Chicago</td>\n",
       "      <td>729 E 92nd St</td>\n",
       "      <td>25000.0</td>\n",
       "      <td>2.0</td>\n",
       "      <td>1.0</td>\n",
       "      <td>920.0</td>\n",
       "      <td>NaN</td>\n",
       "      <td>60619</td>\n",
       "      <td>Illinois</td>\n",
       "      <td>27.173913</td>\n",
       "      <td>NaN</td>\n",
       "    </tr>\n",
       "    <tr>\n",
       "      <th>1778</th>\n",
       "      <td>Chicago</td>\n",
       "      <td>4855 W Jackson Blvd</td>\n",
       "      <td>12000.0</td>\n",
       "      <td>NaN</td>\n",
       "      <td>NaN</td>\n",
       "      <td>NaN</td>\n",
       "      <td>NaN</td>\n",
       "      <td>60644</td>\n",
       "      <td>Illinois</td>\n",
       "      <td>NaN</td>\n",
       "      <td>NaN</td>\n",
       "    </tr>\n",
       "    <tr>\n",
       "      <th>1809</th>\n",
       "      <td>Chicago</td>\n",
       "      <td>4850 S Lake Park Ave Apt 905</td>\n",
       "      <td>20000.0</td>\n",
       "      <td>2.0</td>\n",
       "      <td>1.0</td>\n",
       "      <td>1112.0</td>\n",
       "      <td>NaN</td>\n",
       "      <td>60615</td>\n",
       "      <td>Illinois</td>\n",
       "      <td>17.985612</td>\n",
       "      <td>NaN</td>\n",
       "    </tr>\n",
       "    <tr>\n",
       "      <th>1984</th>\n",
       "      <td>Chicago</td>\n",
       "      <td>4850 S Lake Park Ave Apt 810</td>\n",
       "      <td>29000.0</td>\n",
       "      <td>2.0</td>\n",
       "      <td>1.0</td>\n",
       "      <td>1050.0</td>\n",
       "      <td>NaN</td>\n",
       "      <td>60615</td>\n",
       "      <td>Illinois</td>\n",
       "      <td>27.619048</td>\n",
       "      <td>NaN</td>\n",
       "    </tr>\n",
       "    <tr>\n",
       "      <th>2031</th>\n",
       "      <td>Chicago</td>\n",
       "      <td>4800 S Lake Park Ave Unit 809A</td>\n",
       "      <td>25000.0</td>\n",
       "      <td>2.0</td>\n",
       "      <td>1.0</td>\n",
       "      <td>1250.0</td>\n",
       "      <td>NaN</td>\n",
       "      <td>60615</td>\n",
       "      <td>Illinois</td>\n",
       "      <td>20.000000</td>\n",
       "      <td>NaN</td>\n",
       "    </tr>\n",
       "    <tr>\n",
       "      <th>2275</th>\n",
       "      <td>Chicago</td>\n",
       "      <td>3505 S Morgan St Unit P64</td>\n",
       "      <td>20000.0</td>\n",
       "      <td>NaN</td>\n",
       "      <td>NaN</td>\n",
       "      <td>NaN</td>\n",
       "      <td>NaN</td>\n",
       "      <td>60609</td>\n",
       "      <td>Illinois</td>\n",
       "      <td>NaN</td>\n",
       "      <td>NaN</td>\n",
       "    </tr>\n",
       "    <tr>\n",
       "      <th>2513</th>\n",
       "      <td>Chicago</td>\n",
       "      <td>41 E 8th St Unit P268</td>\n",
       "      <td>28000.0</td>\n",
       "      <td>NaN</td>\n",
       "      <td>NaN</td>\n",
       "      <td>NaN</td>\n",
       "      <td>NaN</td>\n",
       "      <td>60605</td>\n",
       "      <td>Illinois</td>\n",
       "      <td>NaN</td>\n",
       "      <td>NaN</td>\n",
       "    </tr>\n",
       "    <tr>\n",
       "      <th>203</th>\n",
       "      <td>Houston</td>\n",
       "      <td>1104 W Tri Oaks Ln Apt 118</td>\n",
       "      <td>1850.0</td>\n",
       "      <td>2.0</td>\n",
       "      <td>NaN</td>\n",
       "      <td>960.0</td>\n",
       "      <td>36938880.0</td>\n",
       "      <td>77043</td>\n",
       "      <td>Texas</td>\n",
       "      <td>1.927083</td>\n",
       "      <td>0.000050</td>\n",
       "    </tr>\n",
       "    <tr>\n",
       "      <th>3661</th>\n",
       "      <td>Houston</td>\n",
       "      <td>11875 Algonquin Dr</td>\n",
       "      <td>18000.0</td>\n",
       "      <td>2.0</td>\n",
       "      <td>2.5</td>\n",
       "      <td>1440.0</td>\n",
       "      <td>1628.0</td>\n",
       "      <td>77089</td>\n",
       "      <td>Texas</td>\n",
       "      <td>12.500000</td>\n",
       "      <td>11.056511</td>\n",
       "    </tr>\n",
       "    <tr>\n",
       "      <th>85</th>\n",
       "      <td>Los Angeles</td>\n",
       "      <td>240 Robinson St</td>\n",
       "      <td>5000.0</td>\n",
       "      <td>8.0</td>\n",
       "      <td>8.0</td>\n",
       "      <td>7896.0</td>\n",
       "      <td>277390080.0</td>\n",
       "      <td>90026</td>\n",
       "      <td>California</td>\n",
       "      <td>0.633232</td>\n",
       "      <td>0.000018</td>\n",
       "    </tr>\n",
       "    <tr>\n",
       "      <th>113</th>\n",
       "      <td>New York</td>\n",
       "      <td>3 Test St Unit 02CS1222</td>\n",
       "      <td>1.0</td>\n",
       "      <td>1.0</td>\n",
       "      <td>2.0</td>\n",
       "      <td>NaN</td>\n",
       "      <td>NaN</td>\n",
       "      <td>10310</td>\n",
       "      <td>New York</td>\n",
       "      <td>NaN</td>\n",
       "      <td>NaN</td>\n",
       "    </tr>\n",
       "    <tr>\n",
       "      <th>3042</th>\n",
       "      <td>New York</td>\n",
       "      <td>200 W 56th St # 2207</td>\n",
       "      <td>5000.0</td>\n",
       "      <td>NaN</td>\n",
       "      <td>1.0</td>\n",
       "      <td>397.0</td>\n",
       "      <td>35283.6</td>\n",
       "      <td>10019</td>\n",
       "      <td>New York</td>\n",
       "      <td>12.594458</td>\n",
       "      <td>0.141709</td>\n",
       "    </tr>\n",
       "    <tr>\n",
       "      <th>3506</th>\n",
       "      <td>New York</td>\n",
       "      <td>215-01 Jamaica Ave</td>\n",
       "      <td>700.0</td>\n",
       "      <td>NaN</td>\n",
       "      <td>1.0</td>\n",
       "      <td>NaN</td>\n",
       "      <td>1740.0</td>\n",
       "      <td>11428</td>\n",
       "      <td>New York</td>\n",
       "      <td>NaN</td>\n",
       "      <td>0.402299</td>\n",
       "    </tr>\n",
       "    <tr>\n",
       "      <th>8387</th>\n",
       "      <td>New York</td>\n",
       "      <td>228 Suydam St Unit Retail</td>\n",
       "      <td>5200.0</td>\n",
       "      <td>NaN</td>\n",
       "      <td>0.5</td>\n",
       "      <td>1800.0</td>\n",
       "      <td>NaN</td>\n",
       "      <td>11237</td>\n",
       "      <td>New York</td>\n",
       "      <td>2.888889</td>\n",
       "      <td>NaN</td>\n",
       "    </tr>\n",
       "    <tr>\n",
       "      <th>8489</th>\n",
       "      <td>New York</td>\n",
       "      <td>2 Test St Unit 1717D</td>\n",
       "      <td>1.0</td>\n",
       "      <td>3.0</td>\n",
       "      <td>1.5</td>\n",
       "      <td>NaN</td>\n",
       "      <td>NaN</td>\n",
       "      <td>10310</td>\n",
       "      <td>New York</td>\n",
       "      <td>NaN</td>\n",
       "      <td>NaN</td>\n",
       "    </tr>\n",
       "    <tr>\n",
       "      <th>22</th>\n",
       "      <td>Philadelphia</td>\n",
       "      <td>2538 Turner St</td>\n",
       "      <td>1750.0</td>\n",
       "      <td>3.0</td>\n",
       "      <td>1.5</td>\n",
       "      <td>1516.0</td>\n",
       "      <td>NaN</td>\n",
       "      <td>19121</td>\n",
       "      <td>Pennsylvania</td>\n",
       "      <td>1.154354</td>\n",
       "      <td>NaN</td>\n",
       "    </tr>\n",
       "    <tr>\n",
       "      <th>3800</th>\n",
       "      <td>Philadelphia</td>\n",
       "      <td>3151 Weymouth St</td>\n",
       "      <td>29999.0</td>\n",
       "      <td>3.0</td>\n",
       "      <td>1.0</td>\n",
       "      <td>1120.0</td>\n",
       "      <td>29620800.0</td>\n",
       "      <td>19134</td>\n",
       "      <td>Pennsylvania</td>\n",
       "      <td>26.784821</td>\n",
       "      <td>0.001013</td>\n",
       "    </tr>\n",
       "    <tr>\n",
       "      <th>4852</th>\n",
       "      <td>Philadelphia</td>\n",
       "      <td>5116 Funston St</td>\n",
       "      <td>24399.0</td>\n",
       "      <td>3.0</td>\n",
       "      <td>1.0</td>\n",
       "      <td>1188.0</td>\n",
       "      <td>35327160.0</td>\n",
       "      <td>19139</td>\n",
       "      <td>Pennsylvania</td>\n",
       "      <td>20.537879</td>\n",
       "      <td>0.000691</td>\n",
       "    </tr>\n",
       "    <tr>\n",
       "      <th>5008</th>\n",
       "      <td>Philadelphia</td>\n",
       "      <td>1420 W Mayfield St</td>\n",
       "      <td>25000.0</td>\n",
       "      <td>3.0</td>\n",
       "      <td>1.5</td>\n",
       "      <td>1144.0</td>\n",
       "      <td>32670000.0</td>\n",
       "      <td>19132</td>\n",
       "      <td>Pennsylvania</td>\n",
       "      <td>21.853147</td>\n",
       "      <td>0.000765</td>\n",
       "    </tr>\n",
       "    <tr>\n",
       "      <th>5292</th>\n",
       "      <td>Philadelphia</td>\n",
       "      <td>2931 N Mutter St</td>\n",
       "      <td>25000.0</td>\n",
       "      <td>3.0</td>\n",
       "      <td>1.0</td>\n",
       "      <td>920.0</td>\n",
       "      <td>26528040.0</td>\n",
       "      <td>19133</td>\n",
       "      <td>Pennsylvania</td>\n",
       "      <td>27.173913</td>\n",
       "      <td>0.000942</td>\n",
       "    </tr>\n",
       "    <tr>\n",
       "      <th>1409</th>\n",
       "      <td>Phoenix</td>\n",
       "      <td>2514 W Glendale Ave Lot 37</td>\n",
       "      <td>25000.0</td>\n",
       "      <td>3.0</td>\n",
       "      <td>1.0</td>\n",
       "      <td>1100.0</td>\n",
       "      <td>4500.0</td>\n",
       "      <td>85051</td>\n",
       "      <td>Arizona</td>\n",
       "      <td>22.727273</td>\n",
       "      <td>5.555556</td>\n",
       "    </tr>\n",
       "    <tr>\n",
       "      <th>1932</th>\n",
       "      <td>San Diego</td>\n",
       "      <td>5255 Timber Branch Way</td>\n",
       "      <td>3700.0</td>\n",
       "      <td>4.0</td>\n",
       "      <td>3.0</td>\n",
       "      <td>2510.0</td>\n",
       "      <td>NaN</td>\n",
       "      <td>92130</td>\n",
       "      <td>California</td>\n",
       "      <td>1.474104</td>\n",
       "      <td>NaN</td>\n",
       "    </tr>\n",
       "  </tbody>\n",
       "</table>\n",
       "</div>"
      ],
      "text/plain": [
       "              city                         address    price  beds  baths  \\\n",
       "2          Chicago          4111 W Washington Blvd  20000.0   3.0    2.0   \n",
       "101        Chicago               10205 S Perry Ave  29900.0   2.0    1.0   \n",
       "467        Chicago                 5330 S Lowe Ave  18000.0   3.0    1.0   \n",
       "786        Chicago                  214 W 106th Pl  25000.0   4.0    1.0   \n",
       "1177       Chicago                   908 W 71st St  28900.0   3.0    1.0   \n",
       "1246       Chicago                8039 S Union Ave  24900.0   2.0    1.0   \n",
       "1648       Chicago           10241 S Wentworth Ave  29100.0   3.0    1.0   \n",
       "1932       Chicago             12049 S LA Salle St  29000.0   4.0    4.0   \n",
       "1977       Chicago              7835 S Sangamon St  15000.0   2.0    1.0   \n",
       "2751       Chicago                 1430 W 115th St  19900.0   4.0    2.0   \n",
       "3417       Chicago                   519 E 92nd St  12000.0   NaN    NaN   \n",
       "182        Chicago                  221 W 106th St  18000.0   NaN    NaN   \n",
       "1767       Chicago  3806 W Washington Blvd Unit Dg  29000.0   1.0    1.0   \n",
       "363        Chicago             1009 W Marquette Rd  24900.0   4.0    2.0   \n",
       "1014       Chicago              6545 S Emerald Ave  25000.0   3.0    2.0   \n",
       "1414       Chicago                   729 E 92nd St  25000.0   2.0    1.0   \n",
       "1778       Chicago             4855 W Jackson Blvd  12000.0   NaN    NaN   \n",
       "1809       Chicago    4850 S Lake Park Ave Apt 905  20000.0   2.0    1.0   \n",
       "1984       Chicago    4850 S Lake Park Ave Apt 810  29000.0   2.0    1.0   \n",
       "2031       Chicago  4800 S Lake Park Ave Unit 809A  25000.0   2.0    1.0   \n",
       "2275       Chicago       3505 S Morgan St Unit P64  20000.0   NaN    NaN   \n",
       "2513       Chicago           41 E 8th St Unit P268  28000.0   NaN    NaN   \n",
       "203        Houston      1104 W Tri Oaks Ln Apt 118   1850.0   2.0    NaN   \n",
       "3661       Houston              11875 Algonquin Dr  18000.0   2.0    2.5   \n",
       "85     Los Angeles                 240 Robinson St   5000.0   8.0    8.0   \n",
       "113       New York         3 Test St Unit 02CS1222      1.0   1.0    2.0   \n",
       "3042      New York            200 W 56th St # 2207   5000.0   NaN    1.0   \n",
       "3506      New York              215-01 Jamaica Ave    700.0   NaN    1.0   \n",
       "8387      New York       228 Suydam St Unit Retail   5200.0   NaN    0.5   \n",
       "8489      New York            2 Test St Unit 1717D      1.0   3.0    1.5   \n",
       "22    Philadelphia                  2538 Turner St   1750.0   3.0    1.5   \n",
       "3800  Philadelphia                3151 Weymouth St  29999.0   3.0    1.0   \n",
       "4852  Philadelphia                 5116 Funston St  24399.0   3.0    1.0   \n",
       "5008  Philadelphia              1420 W Mayfield St  25000.0   3.0    1.5   \n",
       "5292  Philadelphia                2931 N Mutter St  25000.0   3.0    1.0   \n",
       "1409       Phoenix      2514 W Glendale Ave Lot 37  25000.0   3.0    1.0   \n",
       "1932     San Diego          5255 Timber Branch Way   3700.0   4.0    3.0   \n",
       "\n",
       "        sqft      sqftlot    zip         state  price_per_sqft  \\\n",
       "2        NaN       3125.0  60624      Illinois             NaN   \n",
       "101   1000.0       3075.0  60628      Illinois       29.900000   \n",
       "467    996.0       3125.0  60609      Illinois       18.072289   \n",
       "786      NaN       3123.0  60628      Illinois             NaN   \n",
       "1177  1023.0       3125.0  60621      Illinois       28.250244   \n",
       "1246   930.0          NaN  60620      Illinois       26.774194   \n",
       "1648  1303.0          NaN  60628      Illinois       22.333078   \n",
       "1932     NaN       3750.0  60628      Illinois             NaN   \n",
       "1977  1030.0          NaN  60620      Illinois       14.563107   \n",
       "2751   912.0       6199.0  60643      Illinois       21.820175   \n",
       "3417     NaN          NaN  60619      Illinois             NaN   \n",
       "182      NaN          NaN  60628      Illinois             NaN   \n",
       "1767   700.0          NaN  60624      Illinois       41.428571   \n",
       "363   1318.0       1851.0  60621      Illinois       18.892261   \n",
       "1014  1153.0       2831.0  60621      Illinois       21.682567   \n",
       "1414   920.0          NaN  60619      Illinois       27.173913   \n",
       "1778     NaN          NaN  60644      Illinois             NaN   \n",
       "1809  1112.0          NaN  60615      Illinois       17.985612   \n",
       "1984  1050.0          NaN  60615      Illinois       27.619048   \n",
       "2031  1250.0          NaN  60615      Illinois       20.000000   \n",
       "2275     NaN          NaN  60609      Illinois             NaN   \n",
       "2513     NaN          NaN  60605      Illinois             NaN   \n",
       "203    960.0   36938880.0  77043         Texas        1.927083   \n",
       "3661  1440.0       1628.0  77089         Texas       12.500000   \n",
       "85    7896.0  277390080.0  90026    California        0.633232   \n",
       "113      NaN          NaN  10310      New York             NaN   \n",
       "3042   397.0      35283.6  10019      New York       12.594458   \n",
       "3506     NaN       1740.0  11428      New York             NaN   \n",
       "8387  1800.0          NaN  11237      New York        2.888889   \n",
       "8489     NaN          NaN  10310      New York             NaN   \n",
       "22    1516.0          NaN  19121  Pennsylvania        1.154354   \n",
       "3800  1120.0   29620800.0  19134  Pennsylvania       26.784821   \n",
       "4852  1188.0   35327160.0  19139  Pennsylvania       20.537879   \n",
       "5008  1144.0   32670000.0  19132  Pennsylvania       21.853147   \n",
       "5292   920.0   26528040.0  19133  Pennsylvania       27.173913   \n",
       "1409  1100.0       4500.0  85051       Arizona       22.727273   \n",
       "1932  2510.0          NaN  92130    California        1.474104   \n",
       "\n",
       "      price_per_sqft_lot  \n",
       "2               6.400000  \n",
       "101             9.723577  \n",
       "467             5.760000  \n",
       "786             8.005123  \n",
       "1177            9.248000  \n",
       "1246                 NaN  \n",
       "1648                 NaN  \n",
       "1932            7.733333  \n",
       "1977                 NaN  \n",
       "2751            3.210195  \n",
       "3417                 NaN  \n",
       "182                  NaN  \n",
       "1767                 NaN  \n",
       "363            13.452188  \n",
       "1014            8.830802  \n",
       "1414                 NaN  \n",
       "1778                 NaN  \n",
       "1809                 NaN  \n",
       "1984                 NaN  \n",
       "2031                 NaN  \n",
       "2275                 NaN  \n",
       "2513                 NaN  \n",
       "203             0.000050  \n",
       "3661           11.056511  \n",
       "85              0.000018  \n",
       "113                  NaN  \n",
       "3042            0.141709  \n",
       "3506            0.402299  \n",
       "8387                 NaN  \n",
       "8489                 NaN  \n",
       "22                   NaN  \n",
       "3800            0.001013  \n",
       "4852            0.000691  \n",
       "5008            0.000765  \n",
       "5292            0.000942  \n",
       "1409            5.555556  \n",
       "1932                 NaN  "
      ]
     },
     "execution_count": 50,
     "metadata": {},
     "output_type": "execute_result"
    }
   ],
   "source": [
    "df.loc[df['price']<30000]"
   ]
  },
  {
   "cell_type": "code",
   "execution_count": 51,
   "id": "183ef0f6",
   "metadata": {},
   "outputs": [
    {
     "data": {
      "text/plain": [
       "(47483, 11)"
      ]
     },
     "execution_count": 51,
     "metadata": {},
     "output_type": "execute_result"
    }
   ],
   "source": [
    "#It seems like houses below 30,000 USD are not in a condition to live, so we will drop them.\n",
    "df=df[df['price']>30000]\n",
    "df.shape"
   ]
  },
  {
   "cell_type": "code",
   "execution_count": 52,
   "id": "344f6821",
   "metadata": {},
   "outputs": [],
   "source": [
    "df_missing2=df_missing[df_missing['sqftlot'].notnull()]"
   ]
  },
  {
   "cell_type": "code",
   "execution_count": 53,
   "id": "755a8844",
   "metadata": {},
   "outputs": [
    {
     "data": {
      "text/plain": [
       "(6823, 12)"
      ]
     },
     "execution_count": 53,
     "metadata": {},
     "output_type": "execute_result"
    }
   ],
   "source": [
    "df_missing2.shape"
   ]
  },
  {
   "cell_type": "code",
   "execution_count": 54,
   "id": "69979ab2",
   "metadata": {},
   "outputs": [
    {
     "data": {
      "text/html": [
       "<div>\n",
       "<style scoped>\n",
       "    .dataframe tbody tr th:only-of-type {\n",
       "        vertical-align: middle;\n",
       "    }\n",
       "\n",
       "    .dataframe tbody tr th {\n",
       "        vertical-align: top;\n",
       "    }\n",
       "\n",
       "    .dataframe thead th {\n",
       "        text-align: right;\n",
       "    }\n",
       "</style>\n",
       "<table border=\"1\" class=\"dataframe\">\n",
       "  <thead>\n",
       "    <tr style=\"text-align: right;\">\n",
       "      <th></th>\n",
       "      <th>city</th>\n",
       "      <th>address</th>\n",
       "      <th>address2</th>\n",
       "      <th>price</th>\n",
       "      <th>beds</th>\n",
       "      <th>baths</th>\n",
       "      <th>sqft</th>\n",
       "      <th>sqftlot</th>\n",
       "      <th>zip</th>\n",
       "      <th>state</th>\n",
       "      <th>price_per_sqft</th>\n",
       "      <th>price_per_sqft_lot</th>\n",
       "    </tr>\n",
       "  </thead>\n",
       "  <tbody>\n",
       "    <tr>\n",
       "      <th>1</th>\n",
       "      <td>Chicago</td>\n",
       "      <td>7032 S Laflin St</td>\n",
       "      <td>Chicago,, IL, ,60636</td>\n",
       "      <td>110000.0</td>\n",
       "      <td>5.0</td>\n",
       "      <td>3.0</td>\n",
       "      <td>NaN</td>\n",
       "      <td>6200.0</td>\n",
       "      <td>60636</td>\n",
       "      <td>Illinois</td>\n",
       "      <td>NaN</td>\n",
       "      <td>17.741935</td>\n",
       "    </tr>\n",
       "    <tr>\n",
       "      <th>2</th>\n",
       "      <td>Chicago</td>\n",
       "      <td>4111 W Washington Blvd</td>\n",
       "      <td>Chicago,, IL, ,60624</td>\n",
       "      <td>20000.0</td>\n",
       "      <td>3.0</td>\n",
       "      <td>2.0</td>\n",
       "      <td>NaN</td>\n",
       "      <td>3125.0</td>\n",
       "      <td>60624</td>\n",
       "      <td>Illinois</td>\n",
       "      <td>NaN</td>\n",
       "      <td>6.400000</td>\n",
       "    </tr>\n",
       "    <tr>\n",
       "      <th>4</th>\n",
       "      <td>Chicago</td>\n",
       "      <td>209 N LA Crosse Ave</td>\n",
       "      <td>Chicago,, IL, ,60644</td>\n",
       "      <td>119000.0</td>\n",
       "      <td>4.0</td>\n",
       "      <td>2.0</td>\n",
       "      <td>NaN</td>\n",
       "      <td>2178.0</td>\n",
       "      <td>60644</td>\n",
       "      <td>Illinois</td>\n",
       "      <td>NaN</td>\n",
       "      <td>54.637282</td>\n",
       "    </tr>\n",
       "    <tr>\n",
       "      <th>6</th>\n",
       "      <td>Chicago</td>\n",
       "      <td>7250 S Lowe Ave</td>\n",
       "      <td>Chicago,, IL, ,60621</td>\n",
       "      <td>285000.0</td>\n",
       "      <td>12.0</td>\n",
       "      <td>6.5</td>\n",
       "      <td>NaN</td>\n",
       "      <td>6098.0</td>\n",
       "      <td>60621</td>\n",
       "      <td>Illinois</td>\n",
       "      <td>NaN</td>\n",
       "      <td>46.736635</td>\n",
       "    </tr>\n",
       "    <tr>\n",
       "      <th>14</th>\n",
       "      <td>Chicago</td>\n",
       "      <td>5750 S Elizabeth St</td>\n",
       "      <td>Chicago,, IL, ,60636</td>\n",
       "      <td>50000.0</td>\n",
       "      <td>5.0</td>\n",
       "      <td>2.0</td>\n",
       "      <td>NaN</td>\n",
       "      <td>3049.0</td>\n",
       "      <td>60636</td>\n",
       "      <td>Illinois</td>\n",
       "      <td>NaN</td>\n",
       "      <td>16.398819</td>\n",
       "    </tr>\n",
       "  </tbody>\n",
       "</table>\n",
       "</div>"
      ],
      "text/plain": [
       "       city                 address              address2     price  beds  \\\n",
       "1   Chicago        7032 S Laflin St  Chicago,, IL, ,60636  110000.0   5.0   \n",
       "2   Chicago  4111 W Washington Blvd  Chicago,, IL, ,60624   20000.0   3.0   \n",
       "4   Chicago     209 N LA Crosse Ave  Chicago,, IL, ,60644  119000.0   4.0   \n",
       "6   Chicago         7250 S Lowe Ave  Chicago,, IL, ,60621  285000.0  12.0   \n",
       "14  Chicago     5750 S Elizabeth St  Chicago,, IL, ,60636   50000.0   5.0   \n",
       "\n",
       "    baths  sqft  sqftlot    zip     state  price_per_sqft  price_per_sqft_lot  \n",
       "1     3.0   NaN   6200.0  60636  Illinois             NaN           17.741935  \n",
       "2     2.0   NaN   3125.0  60624  Illinois             NaN            6.400000  \n",
       "4     2.0   NaN   2178.0  60644  Illinois             NaN           54.637282  \n",
       "6     6.5   NaN   6098.0  60621  Illinois             NaN           46.736635  \n",
       "14    2.0   NaN   3049.0  60636  Illinois             NaN           16.398819  "
      ]
     },
     "execution_count": 54,
     "metadata": {},
     "output_type": "execute_result"
    }
   ],
   "source": [
    "df_missing2.head()"
   ]
  },
  {
   "cell_type": "code",
   "execution_count": 55,
   "id": "eaa9d562",
   "metadata": {},
   "outputs": [
    {
     "data": {
      "text/plain": [
       "NaN       2817\n",
       "3125.0     342\n",
       "3049.0     149\n",
       "2500.0     136\n",
       "2000.0     116\n",
       "          ... \n",
       "7538.0       1\n",
       "6867.0       1\n",
       "5452.0       1\n",
       "100.0        1\n",
       "9439.0       1\n",
       "Name: sqftlot, Length: 2186, dtype: int64"
      ]
     },
     "execution_count": 55,
     "metadata": {},
     "output_type": "execute_result"
    }
   ],
   "source": [
    "df_missing['sqftlot'].value_counts(dropna=False)"
   ]
  },
  {
   "cell_type": "code",
   "execution_count": 56,
   "id": "21b0cfaa",
   "metadata": {},
   "outputs": [
    {
     "data": {
      "text/plain": [
       "<AxesSubplot:xlabel='price_per_sqft', ylabel='Count'>"
      ]
     },
     "execution_count": 56,
     "metadata": {},
     "output_type": "execute_result"
    },
    {
     "data": {
      "image/png": "[encoded data removed]",
      "text/plain": [
       "<Figure size 640x480 with 1 Axes>"
      ]
     },
     "metadata": {},
     "output_type": "display_data"
    }
   ],
   "source": [
    "#Checking for outliers in price_per_sqft column via histogram\n",
    "sns.histplot(df['price_per_sqft'], bins = 20, kde = True)"
   ]
  },
  {
   "cell_type": "code",
   "execution_count": 57,
   "id": "ee8ba2b0",
   "metadata": {},
   "outputs": [
    {
     "data": {
      "text/html": [
       "<div>\n",
       "<style scoped>\n",
       "    .dataframe tbody tr th:only-of-type {\n",
       "        vertical-align: middle;\n",
       "    }\n",
       "\n",
       "    .dataframe tbody tr th {\n",
       "        vertical-align: top;\n",
       "    }\n",
       "\n",
       "    .dataframe thead th {\n",
       "        text-align: right;\n",
       "    }\n",
       "</style>\n",
       "<table border=\"1\" class=\"dataframe\">\n",
       "  <thead>\n",
       "    <tr style=\"text-align: right;\">\n",
       "      <th></th>\n",
       "      <th>city</th>\n",
       "      <th>address</th>\n",
       "      <th>price</th>\n",
       "      <th>beds</th>\n",
       "      <th>baths</th>\n",
       "      <th>sqft</th>\n",
       "      <th>sqftlot</th>\n",
       "      <th>zip</th>\n",
       "      <th>state</th>\n",
       "      <th>price_per_sqft</th>\n",
       "      <th>price_per_sqft_lot</th>\n",
       "    </tr>\n",
       "  </thead>\n",
       "  <tbody>\n",
       "    <tr>\n",
       "      <th>31</th>\n",
       "      <td>New York</td>\n",
       "      <td>432 Park Ave Apt 81A</td>\n",
       "      <td>19500000.0</td>\n",
       "      <td>3.0</td>\n",
       "      <td>3.0</td>\n",
       "      <td>2633.0</td>\n",
       "      <td>NaN</td>\n",
       "      <td>10022</td>\n",
       "      <td>New York</td>\n",
       "      <td>7406.000760</td>\n",
       "      <td>NaN</td>\n",
       "    </tr>\n",
       "    <tr>\n",
       "      <th>516</th>\n",
       "      <td>New York</td>\n",
       "      <td>220 Central Park S Apt 39A</td>\n",
       "      <td>34500000.0</td>\n",
       "      <td>3.0</td>\n",
       "      <td>3.5</td>\n",
       "      <td>3114.0</td>\n",
       "      <td>NaN</td>\n",
       "      <td>10019</td>\n",
       "      <td>New York</td>\n",
       "      <td>11078.998073</td>\n",
       "      <td>NaN</td>\n",
       "    </tr>\n",
       "    <tr>\n",
       "      <th>679</th>\n",
       "      <td>New York</td>\n",
       "      <td>303 Park Ave S Unit 4105</td>\n",
       "      <td>18500000.0</td>\n",
       "      <td>4.0</td>\n",
       "      <td>4.5</td>\n",
       "      <td>2971.0</td>\n",
       "      <td>NaN</td>\n",
       "      <td>10010</td>\n",
       "      <td>New York</td>\n",
       "      <td>6226.859643</td>\n",
       "      <td>NaN</td>\n",
       "    </tr>\n",
       "    <tr>\n",
       "      <th>766</th>\n",
       "      <td>New York</td>\n",
       "      <td>50 Central Park S # 30</td>\n",
       "      <td>90000000.0</td>\n",
       "      <td>3.0</td>\n",
       "      <td>NaN</td>\n",
       "      <td>10875.0</td>\n",
       "      <td>NaN</td>\n",
       "      <td>10019</td>\n",
       "      <td>New York</td>\n",
       "      <td>8275.862069</td>\n",
       "      <td>NaN</td>\n",
       "    </tr>\n",
       "    <tr>\n",
       "      <th>1315</th>\n",
       "      <td>New York</td>\n",
       "      <td>432 Park Ave Apt 66A</td>\n",
       "      <td>26500000.0</td>\n",
       "      <td>3.0</td>\n",
       "      <td>3.5</td>\n",
       "      <td>4019.0</td>\n",
       "      <td>NaN</td>\n",
       "      <td>10022</td>\n",
       "      <td>New York</td>\n",
       "      <td>6593.680020</td>\n",
       "      <td>NaN</td>\n",
       "    </tr>\n",
       "    <tr>\n",
       "      <th>5067</th>\n",
       "      <td>New York</td>\n",
       "      <td>111 W 57th St # 70</td>\n",
       "      <td>30500000.0</td>\n",
       "      <td>3.0</td>\n",
       "      <td>3.5</td>\n",
       "      <td>3873.0</td>\n",
       "      <td>NaN</td>\n",
       "      <td>10019</td>\n",
       "      <td>New York</td>\n",
       "      <td>7875.032275</td>\n",
       "      <td>NaN</td>\n",
       "    </tr>\n",
       "    <tr>\n",
       "      <th>5147</th>\n",
       "      <td>New York</td>\n",
       "      <td>432 Park Ave Apt 66B</td>\n",
       "      <td>29500000.0</td>\n",
       "      <td>4.0</td>\n",
       "      <td>4.5</td>\n",
       "      <td>4019.0</td>\n",
       "      <td>NaN</td>\n",
       "      <td>10022</td>\n",
       "      <td>New York</td>\n",
       "      <td>7340.134362</td>\n",
       "      <td>NaN</td>\n",
       "    </tr>\n",
       "    <tr>\n",
       "      <th>5392</th>\n",
       "      <td>New York</td>\n",
       "      <td>20 W 53rd B/C St Unit 18</td>\n",
       "      <td>31999000.0</td>\n",
       "      <td>5.0</td>\n",
       "      <td>7.0</td>\n",
       "      <td>4299.0</td>\n",
       "      <td>NaN</td>\n",
       "      <td>10019</td>\n",
       "      <td>New York</td>\n",
       "      <td>7443.358921</td>\n",
       "      <td>NaN</td>\n",
       "    </tr>\n",
       "    <tr>\n",
       "      <th>5490</th>\n",
       "      <td>New York</td>\n",
       "      <td>50 Central Park S Units 30 &amp; 31</td>\n",
       "      <td>90000000.0</td>\n",
       "      <td>3.0</td>\n",
       "      <td>5.0</td>\n",
       "      <td>10875.0</td>\n",
       "      <td>NaN</td>\n",
       "      <td>10019</td>\n",
       "      <td>New York</td>\n",
       "      <td>8275.862069</td>\n",
       "      <td>NaN</td>\n",
       "    </tr>\n",
       "    <tr>\n",
       "      <th>6068</th>\n",
       "      <td>New York</td>\n",
       "      <td>1171 86th St Unit 1</td>\n",
       "      <td>5800000.0</td>\n",
       "      <td>2.0</td>\n",
       "      <td>2.0</td>\n",
       "      <td>900.0</td>\n",
       "      <td>NaN</td>\n",
       "      <td>11228</td>\n",
       "      <td>New York</td>\n",
       "      <td>6444.444444</td>\n",
       "      <td>NaN</td>\n",
       "    </tr>\n",
       "    <tr>\n",
       "      <th>7239</th>\n",
       "      <td>New York</td>\n",
       "      <td>15 Central Park W Apt 36D</td>\n",
       "      <td>28000000.0</td>\n",
       "      <td>3.0</td>\n",
       "      <td>3.5</td>\n",
       "      <td>3173.0</td>\n",
       "      <td>NaN</td>\n",
       "      <td>10023</td>\n",
       "      <td>New York</td>\n",
       "      <td>8824.456350</td>\n",
       "      <td>NaN</td>\n",
       "    </tr>\n",
       "    <tr>\n",
       "      <th>8077</th>\n",
       "      <td>New York</td>\n",
       "      <td>217 W 57th St Apt 97E</td>\n",
       "      <td>33980000.0</td>\n",
       "      <td>4.0</td>\n",
       "      <td>4.5</td>\n",
       "      <td>4296.0</td>\n",
       "      <td>NaN</td>\n",
       "      <td>10019</td>\n",
       "      <td>New York</td>\n",
       "      <td>7909.683426</td>\n",
       "      <td>NaN</td>\n",
       "    </tr>\n",
       "    <tr>\n",
       "      <th>1520</th>\n",
       "      <td>San Diego</td>\n",
       "      <td>6340 Camino De La Costa</td>\n",
       "      <td>45000000.0</td>\n",
       "      <td>7.0</td>\n",
       "      <td>NaN</td>\n",
       "      <td>6834.0</td>\n",
       "      <td>59241.6</td>\n",
       "      <td>92037</td>\n",
       "      <td>California</td>\n",
       "      <td>6584.723442</td>\n",
       "      <td>759.601361</td>\n",
       "    </tr>\n",
       "    <tr>\n",
       "      <th>747</th>\n",
       "      <td>San Jose</td>\n",
       "      <td>6821 Silver Creek Rd</td>\n",
       "      <td>6995000.0</td>\n",
       "      <td>2.0</td>\n",
       "      <td>1.0</td>\n",
       "      <td>800.0</td>\n",
       "      <td>4443120.0</td>\n",
       "      <td>95138</td>\n",
       "      <td>California</td>\n",
       "      <td>8743.750000</td>\n",
       "      <td>1.574344</td>\n",
       "    </tr>\n",
       "  </tbody>\n",
       "</table>\n",
       "</div>"
      ],
      "text/plain": [
       "           city                          address       price  beds  baths  \\\n",
       "31     New York             432 Park Ave Apt 81A  19500000.0   3.0    3.0   \n",
       "516    New York       220 Central Park S Apt 39A  34500000.0   3.0    3.5   \n",
       "679    New York         303 Park Ave S Unit 4105  18500000.0   4.0    4.5   \n",
       "766    New York           50 Central Park S # 30  90000000.0   3.0    NaN   \n",
       "1315   New York             432 Park Ave Apt 66A  26500000.0   3.0    3.5   \n",
       "5067   New York               111 W 57th St # 70  30500000.0   3.0    3.5   \n",
       "5147   New York             432 Park Ave Apt 66B  29500000.0   4.0    4.5   \n",
       "5392   New York         20 W 53rd B/C St Unit 18  31999000.0   5.0    7.0   \n",
       "5490   New York  50 Central Park S Units 30 & 31  90000000.0   3.0    5.0   \n",
       "6068   New York              1171 86th St Unit 1   5800000.0   2.0    2.0   \n",
       "7239   New York        15 Central Park W Apt 36D  28000000.0   3.0    3.5   \n",
       "8077   New York            217 W 57th St Apt 97E  33980000.0   4.0    4.5   \n",
       "1520  San Diego          6340 Camino De La Costa  45000000.0   7.0    NaN   \n",
       "747    San Jose             6821 Silver Creek Rd   6995000.0   2.0    1.0   \n",
       "\n",
       "         sqft    sqftlot    zip       state  price_per_sqft  \\\n",
       "31     2633.0        NaN  10022    New York     7406.000760   \n",
       "516    3114.0        NaN  10019    New York    11078.998073   \n",
       "679    2971.0        NaN  10010    New York     6226.859643   \n",
       "766   10875.0        NaN  10019    New York     8275.862069   \n",
       "1315   4019.0        NaN  10022    New York     6593.680020   \n",
       "5067   3873.0        NaN  10019    New York     7875.032275   \n",
       "5147   4019.0        NaN  10022    New York     7340.134362   \n",
       "5392   4299.0        NaN  10019    New York     7443.358921   \n",
       "5490  10875.0        NaN  10019    New York     8275.862069   \n",
       "6068    900.0        NaN  11228    New York     6444.444444   \n",
       "7239   3173.0        NaN  10023    New York     8824.456350   \n",
       "8077   4296.0        NaN  10019    New York     7909.683426   \n",
       "1520   6834.0    59241.6  92037  California     6584.723442   \n",
       "747     800.0  4443120.0  95138  California     8743.750000   \n",
       "\n",
       "      price_per_sqft_lot  \n",
       "31                   NaN  \n",
       "516                  NaN  \n",
       "679                  NaN  \n",
       "766                  NaN  \n",
       "1315                 NaN  \n",
       "5067                 NaN  \n",
       "5147                 NaN  \n",
       "5392                 NaN  \n",
       "5490                 NaN  \n",
       "6068                 NaN  \n",
       "7239                 NaN  \n",
       "8077                 NaN  \n",
       "1520          759.601361  \n",
       "747             1.574344  "
      ]
     },
     "execution_count": 57,
     "metadata": {},
     "output_type": "execute_result"
    }
   ],
   "source": [
    "df.loc[df['price_per_sqft']>6000]"
   ]
  },
  {
   "cell_type": "markdown",
   "id": "c29f995c",
   "metadata": {},
   "source": [
    "#### The highest prices per sqft have been checked and verified that they are correct. Thus, we will leave them for now, for further analysis."
   ]
  },
  {
   "cell_type": "code",
   "execution_count": 58,
   "id": "58b01d3b",
   "metadata": {},
   "outputs": [
    {
     "data": {
      "text/plain": [
       "<AxesSubplot:xlabel='price_per_sqft_lot', ylabel='Count'>"
      ]
     },
     "execution_count": 58,
     "metadata": {},
     "output_type": "execute_result"
    },
    {
     "data": {
      "image/png": "[encoded data removed]",
      "text/plain": [
       "<Figure size 640x480 with 1 Axes>"
      ]
     },
     "metadata": {},
     "output_type": "display_data"
    }
   ],
   "source": [
    "#Checking for outliers inprice per sqflot column via histogram\n",
    "sns.histplot(df['price_per_sqft_lot'], bins = 20, kde = True)"
   ]
  },
  {
   "cell_type": "code",
   "execution_count": 59,
   "id": "e64caab7",
   "metadata": {},
   "outputs": [
    {
     "data": {
      "text/plain": [
       "<AxesSubplot:xlabel='beds', ylabel='Count'>"
      ]
     },
     "execution_count": 59,
     "metadata": {},
     "output_type": "execute_result"
    },
    {
     "data": {
      "image/png": "[encoded data removed]",
      "text/plain": [
       "<Figure size 640x480 with 1 Axes>"
      ]
     },
     "metadata": {},
     "output_type": "display_data"
    }
   ],
   "source": [
    "#Checking for outliers in baths column via histogram\n",
    "sns.histplot(df['beds'], bins = 20, kde = True)"
   ]
  },
  {
   "cell_type": "code",
   "execution_count": 60,
   "id": "c3cca137",
   "metadata": {},
   "outputs": [
    {
     "data": {
      "text/plain": [
       "(45912, 11)"
      ]
     },
     "execution_count": 60,
     "metadata": {},
     "output_type": "execute_result"
    }
   ],
   "source": [
    "#Since we are not interested in apartment complexes or units we will remove the houses with more than 10 beds\n",
    "df=df[df['beds']<=10]\n",
    "df.shape"
   ]
  },
  {
   "cell_type": "markdown",
   "id": "ae437680",
   "metadata": {},
   "source": [
    "### b. Merging annual income after tax data"
   ]
  },
  {
   "cell_type": "code",
   "execution_count": 61,
   "id": "d48494df",
   "metadata": {},
   "outputs": [],
   "source": [
    "#Importig data\n",
    "df_salary=pd.read_excel(os.path.join(path, '02 Data', 'Original Data', 'Salaries.xlsx'))\n",
    "df_tax=pd.read_excel(os.path.join(path, '02 Data', 'Original Data', 'State_Property_Tax_Rate.xlsx'))"
   ]
  },
  {
   "cell_type": "code",
   "execution_count": 62,
   "id": "bdac165e",
   "metadata": {},
   "outputs": [
    {
     "data": {
      "text/plain": [
       "(63, 6)"
      ]
     },
     "execution_count": 62,
     "metadata": {},
     "output_type": "execute_result"
    }
   ],
   "source": [
    "df_salary.shape"
   ]
  },
  {
   "cell_type": "code",
   "execution_count": 63,
   "id": "e5a14af7",
   "metadata": {},
   "outputs": [
    {
     "data": {
      "text/html": [
       "<div>\n",
       "<style scoped>\n",
       "    .dataframe tbody tr th:only-of-type {\n",
       "        vertical-align: middle;\n",
       "    }\n",
       "\n",
       "    .dataframe tbody tr th {\n",
       "        vertical-align: top;\n",
       "    }\n",
       "\n",
       "    .dataframe thead th {\n",
       "        text-align: right;\n",
       "    }\n",
       "</style>\n",
       "<table border=\"1\" class=\"dataframe\">\n",
       "  <thead>\n",
       "    <tr style=\"text-align: right;\">\n",
       "      <th></th>\n",
       "      <th>Unnamed: 0</th>\n",
       "      <th>city</th>\n",
       "      <th>state</th>\n",
       "      <th>country</th>\n",
       "      <th>Avg monthly income</th>\n",
       "      <th>avg annual income</th>\n",
       "    </tr>\n",
       "  </thead>\n",
       "  <tbody>\n",
       "    <tr>\n",
       "      <th>0</th>\n",
       "      <td>1</td>\n",
       "      <td>San Jose</td>\n",
       "      <td>CA</td>\n",
       "      <td>United States</td>\n",
       "      <td>6496.00</td>\n",
       "      <td>77952.00</td>\n",
       "    </tr>\n",
       "    <tr>\n",
       "      <th>1</th>\n",
       "      <td>2</td>\n",
       "      <td>Seattle</td>\n",
       "      <td>WA</td>\n",
       "      <td>United States</td>\n",
       "      <td>6057.80</td>\n",
       "      <td>72693.60</td>\n",
       "    </tr>\n",
       "    <tr>\n",
       "      <th>2</th>\n",
       "      <td>3</td>\n",
       "      <td>Irvine</td>\n",
       "      <td>CA</td>\n",
       "      <td>United States</td>\n",
       "      <td>6030.42</td>\n",
       "      <td>72365.04</td>\n",
       "    </tr>\n",
       "    <tr>\n",
       "      <th>3</th>\n",
       "      <td>4</td>\n",
       "      <td>San Francisco</td>\n",
       "      <td>CA</td>\n",
       "      <td>United States</td>\n",
       "      <td>5931.34</td>\n",
       "      <td>71176.08</td>\n",
       "    </tr>\n",
       "    <tr>\n",
       "      <th>4</th>\n",
       "      <td>5</td>\n",
       "      <td>New York</td>\n",
       "      <td>NY</td>\n",
       "      <td>United States</td>\n",
       "      <td>5930.92</td>\n",
       "      <td>71171.04</td>\n",
       "    </tr>\n",
       "  </tbody>\n",
       "</table>\n",
       "</div>"
      ],
      "text/plain": [
       "   Unnamed: 0           city state         country  Avg monthly income  \\\n",
       "0           1       San Jose    CA   United States             6496.00   \n",
       "1           2        Seattle    WA   United States             6057.80   \n",
       "2           3         Irvine    CA   United States             6030.42   \n",
       "3           4  San Francisco    CA   United States             5931.34   \n",
       "4           5       New York    NY   United States             5930.92   \n",
       "\n",
       "   avg annual income  \n",
       "0           77952.00  \n",
       "1           72693.60  \n",
       "2           72365.04  \n",
       "3           71176.08  \n",
       "4           71171.04  "
      ]
     },
     "execution_count": 63,
     "metadata": {},
     "output_type": "execute_result"
    }
   ],
   "source": [
    "df_salary.head()"
   ]
  },
  {
   "cell_type": "code",
   "execution_count": 64,
   "id": "b3abb26b",
   "metadata": {},
   "outputs": [
    {
     "data": {
      "text/plain": [
       "Unnamed: 0              int64\n",
       "city                   object\n",
       "state                  object\n",
       "country                object\n",
       "Avg monthly income    float64\n",
       "avg annual income     float64\n",
       "dtype: object"
      ]
     },
     "execution_count": 64,
     "metadata": {},
     "output_type": "execute_result"
    }
   ],
   "source": [
    "df_salary.dtypes"
   ]
  },
  {
   "cell_type": "code",
   "execution_count": 65,
   "id": "0a7d66a0",
   "metadata": {},
   "outputs": [
    {
     "data": {
      "text/html": [
       "<div>\n",
       "<style scoped>\n",
       "    .dataframe tbody tr th:only-of-type {\n",
       "        vertical-align: middle;\n",
       "    }\n",
       "\n",
       "    .dataframe tbody tr th {\n",
       "        vertical-align: top;\n",
       "    }\n",
       "\n",
       "    .dataframe thead th {\n",
       "        text-align: right;\n",
       "    }\n",
       "</style>\n",
       "<table border=\"1\" class=\"dataframe\">\n",
       "  <thead>\n",
       "    <tr style=\"text-align: right;\">\n",
       "      <th></th>\n",
       "      <th>Unnamed: 0</th>\n",
       "      <th>state</th>\n",
       "      <th>property tax rate</th>\n",
       "    </tr>\n",
       "  </thead>\n",
       "  <tbody>\n",
       "    <tr>\n",
       "      <th>0</th>\n",
       "      <td>1</td>\n",
       "      <td>Hawaii</td>\n",
       "      <td>0.28</td>\n",
       "    </tr>\n",
       "    <tr>\n",
       "      <th>1</th>\n",
       "      <td>2</td>\n",
       "      <td>Alabama</td>\n",
       "      <td>0.41</td>\n",
       "    </tr>\n",
       "    <tr>\n",
       "      <th>2</th>\n",
       "      <td>3</td>\n",
       "      <td>Colorado</td>\n",
       "      <td>0.51</td>\n",
       "    </tr>\n",
       "    <tr>\n",
       "      <th>3</th>\n",
       "      <td>4</td>\n",
       "      <td>Louisiana</td>\n",
       "      <td>0.55</td>\n",
       "    </tr>\n",
       "    <tr>\n",
       "      <th>4</th>\n",
       "      <td>5</td>\n",
       "      <td>South Carolina</td>\n",
       "      <td>0.57</td>\n",
       "    </tr>\n",
       "  </tbody>\n",
       "</table>\n",
       "</div>"
      ],
      "text/plain": [
       "   Unnamed: 0             state  property tax rate\n",
       "0           1           Hawaii                0.28\n",
       "1           2          Alabama                0.41\n",
       "2           3         Colorado                0.51\n",
       "3           4        Louisiana                0.55\n",
       "4           5   South Carolina                0.57"
      ]
     },
     "execution_count": 65,
     "metadata": {},
     "output_type": "execute_result"
    }
   ],
   "source": [
    "df_tax.head()"
   ]
  },
  {
   "cell_type": "code",
   "execution_count": 66,
   "id": "994e45a4",
   "metadata": {},
   "outputs": [
    {
     "data": {
      "text/plain": [
       "Unnamed: 0             int64\n",
       "state                 object\n",
       "property tax rate    float64\n",
       "dtype: object"
      ]
     },
     "execution_count": 66,
     "metadata": {},
     "output_type": "execute_result"
    }
   ],
   "source": [
    "df_tax.dtypes"
   ]
  },
  {
   "cell_type": "code",
   "execution_count": 67,
   "id": "29307d0f",
   "metadata": {},
   "outputs": [
    {
     "data": {
      "text/plain": [
       "both          45912\n",
       "left_only         0\n",
       "right_only        0\n",
       "Name: _merge, dtype: int64"
      ]
     },
     "execution_count": 67,
     "metadata": {},
     "output_type": "execute_result"
    }
   ],
   "source": [
    "#Merging the datasets\n",
    "df_merged=df.merge(df_salary, on=['city'], how='left', indicator=True)\n",
    "df_merged['_merge'].value_counts(dropna=False)"
   ]
  },
  {
   "cell_type": "code",
   "execution_count": 68,
   "id": "fddf33a2",
   "metadata": {},
   "outputs": [
    {
     "data": {
      "text/html": [
       "<div>\n",
       "<style scoped>\n",
       "    .dataframe tbody tr th:only-of-type {\n",
       "        vertical-align: middle;\n",
       "    }\n",
       "\n",
       "    .dataframe tbody tr th {\n",
       "        vertical-align: top;\n",
       "    }\n",
       "\n",
       "    .dataframe thead th {\n",
       "        text-align: right;\n",
       "    }\n",
       "</style>\n",
       "<table border=\"1\" class=\"dataframe\">\n",
       "  <thead>\n",
       "    <tr style=\"text-align: right;\">\n",
       "      <th></th>\n",
       "      <th>city</th>\n",
       "      <th>address</th>\n",
       "      <th>price</th>\n",
       "      <th>beds</th>\n",
       "      <th>baths</th>\n",
       "      <th>sqft</th>\n",
       "      <th>sqftlot</th>\n",
       "      <th>zip</th>\n",
       "      <th>state_x</th>\n",
       "      <th>price_per_sqft</th>\n",
       "      <th>price_per_sqft_lot</th>\n",
       "      <th>Unnamed: 0</th>\n",
       "      <th>state_y</th>\n",
       "      <th>country</th>\n",
       "      <th>Avg monthly income</th>\n",
       "      <th>avg annual income</th>\n",
       "      <th>_merge</th>\n",
       "    </tr>\n",
       "  </thead>\n",
       "  <tbody>\n",
       "    <tr>\n",
       "      <th>0</th>\n",
       "      <td>Chicago</td>\n",
       "      <td>2711 W Congress Pkwy Apt 2</td>\n",
       "      <td>270000.0</td>\n",
       "      <td>3.0</td>\n",
       "      <td>2.0</td>\n",
       "      <td>1400.0</td>\n",
       "      <td>NaN</td>\n",
       "      <td>60612</td>\n",
       "      <td>Illinois</td>\n",
       "      <td>192.857143</td>\n",
       "      <td>NaN</td>\n",
       "      <td>22</td>\n",
       "      <td>IL</td>\n",
       "      <td>United States</td>\n",
       "      <td>4976.19</td>\n",
       "      <td>59714.28</td>\n",
       "      <td>both</td>\n",
       "    </tr>\n",
       "    <tr>\n",
       "      <th>1</th>\n",
       "      <td>Chicago</td>\n",
       "      <td>7032 S Laflin St</td>\n",
       "      <td>110000.0</td>\n",
       "      <td>5.0</td>\n",
       "      <td>3.0</td>\n",
       "      <td>NaN</td>\n",
       "      <td>6200.0</td>\n",
       "      <td>60636</td>\n",
       "      <td>Illinois</td>\n",
       "      <td>NaN</td>\n",
       "      <td>17.741935</td>\n",
       "      <td>22</td>\n",
       "      <td>IL</td>\n",
       "      <td>United States</td>\n",
       "      <td>4976.19</td>\n",
       "      <td>59714.28</td>\n",
       "      <td>both</td>\n",
       "    </tr>\n",
       "    <tr>\n",
       "      <th>2</th>\n",
       "      <td>Chicago</td>\n",
       "      <td>1560 E 93rd St</td>\n",
       "      <td>69900.0</td>\n",
       "      <td>2.0</td>\n",
       "      <td>2.0</td>\n",
       "      <td>1124.0</td>\n",
       "      <td>4626.0</td>\n",
       "      <td>60619</td>\n",
       "      <td>Illinois</td>\n",
       "      <td>62.188612</td>\n",
       "      <td>15.110246</td>\n",
       "      <td>22</td>\n",
       "      <td>IL</td>\n",
       "      <td>United States</td>\n",
       "      <td>4976.19</td>\n",
       "      <td>59714.28</td>\n",
       "      <td>both</td>\n",
       "    </tr>\n",
       "    <tr>\n",
       "      <th>3</th>\n",
       "      <td>Chicago</td>\n",
       "      <td>209 N LA Crosse Ave</td>\n",
       "      <td>119000.0</td>\n",
       "      <td>4.0</td>\n",
       "      <td>2.0</td>\n",
       "      <td>NaN</td>\n",
       "      <td>2178.0</td>\n",
       "      <td>60644</td>\n",
       "      <td>Illinois</td>\n",
       "      <td>NaN</td>\n",
       "      <td>54.637282</td>\n",
       "      <td>22</td>\n",
       "      <td>IL</td>\n",
       "      <td>United States</td>\n",
       "      <td>4976.19</td>\n",
       "      <td>59714.28</td>\n",
       "      <td>both</td>\n",
       "    </tr>\n",
       "    <tr>\n",
       "      <th>4</th>\n",
       "      <td>Chicago</td>\n",
       "      <td>1248 W 108th Pl</td>\n",
       "      <td>114900.0</td>\n",
       "      <td>3.0</td>\n",
       "      <td>1.5</td>\n",
       "      <td>1069.0</td>\n",
       "      <td>3123.0</td>\n",
       "      <td>60643</td>\n",
       "      <td>Illinois</td>\n",
       "      <td>107.483630</td>\n",
       "      <td>36.791547</td>\n",
       "      <td>22</td>\n",
       "      <td>IL</td>\n",
       "      <td>United States</td>\n",
       "      <td>4976.19</td>\n",
       "      <td>59714.28</td>\n",
       "      <td>both</td>\n",
       "    </tr>\n",
       "  </tbody>\n",
       "</table>\n",
       "</div>"
      ],
      "text/plain": [
       "      city                     address     price  beds  baths    sqft  \\\n",
       "0  Chicago  2711 W Congress Pkwy Apt 2  270000.0   3.0    2.0  1400.0   \n",
       "1  Chicago            7032 S Laflin St  110000.0   5.0    3.0     NaN   \n",
       "2  Chicago              1560 E 93rd St   69900.0   2.0    2.0  1124.0   \n",
       "3  Chicago         209 N LA Crosse Ave  119000.0   4.0    2.0     NaN   \n",
       "4  Chicago             1248 W 108th Pl  114900.0   3.0    1.5  1069.0   \n",
       "\n",
       "   sqftlot    zip   state_x  price_per_sqft  price_per_sqft_lot  Unnamed: 0  \\\n",
       "0      NaN  60612  Illinois      192.857143                 NaN          22   \n",
       "1   6200.0  60636  Illinois             NaN           17.741935          22   \n",
       "2   4626.0  60619  Illinois       62.188612           15.110246          22   \n",
       "3   2178.0  60644  Illinois             NaN           54.637282          22   \n",
       "4   3123.0  60643  Illinois      107.483630           36.791547          22   \n",
       "\n",
       "  state_y         country  Avg monthly income  avg annual income _merge  \n",
       "0      IL   United States             4976.19           59714.28   both  \n",
       "1      IL   United States             4976.19           59714.28   both  \n",
       "2      IL   United States             4976.19           59714.28   both  \n",
       "3      IL   United States             4976.19           59714.28   both  \n",
       "4      IL   United States             4976.19           59714.28   both  "
      ]
     },
     "execution_count": 68,
     "metadata": {},
     "output_type": "execute_result"
    }
   ],
   "source": [
    "df_merged.head()"
   ]
  },
  {
   "cell_type": "code",
   "execution_count": 69,
   "id": "2b851c85",
   "metadata": {},
   "outputs": [
    {
     "data": {
      "text/plain": [
       "71171.04    6968\n",
       "59373.84    6780\n",
       "55132.92    6752\n",
       "59714.28    6634\n",
       "58901.76    5247\n",
       "63159.84    4849\n",
       "61880.16    4279\n",
       "63889.56    2137\n",
       "67120.32    1635\n",
       "77952.00     631\n",
       "Name: avg annual income, dtype: int64"
      ]
     },
     "execution_count": 69,
     "metadata": {},
     "output_type": "execute_result"
    }
   ],
   "source": [
    "df_merged['avg annual income'].value_counts(dropna=False)"
   ]
  },
  {
   "cell_type": "code",
   "execution_count": 70,
   "id": "8fa75fb7",
   "metadata": {},
   "outputs": [],
   "source": [
    "#Dropping unnecessary columns\n",
    "df=df_merged.drop(columns=['state_y', 'Unnamed: 0', 'country', '_merge'])\n",
    "df=df.rename(columns={'state_x':'state'})"
   ]
  },
  {
   "cell_type": "code",
   "execution_count": 71,
   "id": "19ce2a68",
   "metadata": {},
   "outputs": [
    {
     "data": {
      "text/html": [
       "<div>\n",
       "<style scoped>\n",
       "    .dataframe tbody tr th:only-of-type {\n",
       "        vertical-align: middle;\n",
       "    }\n",
       "\n",
       "    .dataframe tbody tr th {\n",
       "        vertical-align: top;\n",
       "    }\n",
       "\n",
       "    .dataframe thead th {\n",
       "        text-align: right;\n",
       "    }\n",
       "</style>\n",
       "<table border=\"1\" class=\"dataframe\">\n",
       "  <thead>\n",
       "    <tr style=\"text-align: right;\">\n",
       "      <th></th>\n",
       "      <th>city</th>\n",
       "      <th>address</th>\n",
       "      <th>price</th>\n",
       "      <th>beds</th>\n",
       "      <th>baths</th>\n",
       "      <th>sqft</th>\n",
       "      <th>sqftlot</th>\n",
       "      <th>zip</th>\n",
       "      <th>state</th>\n",
       "      <th>price_per_sqft</th>\n",
       "      <th>price_per_sqft_lot</th>\n",
       "      <th>Avg monthly income</th>\n",
       "      <th>avg annual income</th>\n",
       "    </tr>\n",
       "  </thead>\n",
       "  <tbody>\n",
       "    <tr>\n",
       "      <th>0</th>\n",
       "      <td>Chicago</td>\n",
       "      <td>2711 W Congress Pkwy Apt 2</td>\n",
       "      <td>270000.0</td>\n",
       "      <td>3.0</td>\n",
       "      <td>2.0</td>\n",
       "      <td>1400.0</td>\n",
       "      <td>NaN</td>\n",
       "      <td>60612</td>\n",
       "      <td>Illinois</td>\n",
       "      <td>192.857143</td>\n",
       "      <td>NaN</td>\n",
       "      <td>4976.19</td>\n",
       "      <td>59714.28</td>\n",
       "    </tr>\n",
       "    <tr>\n",
       "      <th>1</th>\n",
       "      <td>Chicago</td>\n",
       "      <td>7032 S Laflin St</td>\n",
       "      <td>110000.0</td>\n",
       "      <td>5.0</td>\n",
       "      <td>3.0</td>\n",
       "      <td>NaN</td>\n",
       "      <td>6200.0</td>\n",
       "      <td>60636</td>\n",
       "      <td>Illinois</td>\n",
       "      <td>NaN</td>\n",
       "      <td>17.741935</td>\n",
       "      <td>4976.19</td>\n",
       "      <td>59714.28</td>\n",
       "    </tr>\n",
       "    <tr>\n",
       "      <th>2</th>\n",
       "      <td>Chicago</td>\n",
       "      <td>1560 E 93rd St</td>\n",
       "      <td>69900.0</td>\n",
       "      <td>2.0</td>\n",
       "      <td>2.0</td>\n",
       "      <td>1124.0</td>\n",
       "      <td>4626.0</td>\n",
       "      <td>60619</td>\n",
       "      <td>Illinois</td>\n",
       "      <td>62.188612</td>\n",
       "      <td>15.110246</td>\n",
       "      <td>4976.19</td>\n",
       "      <td>59714.28</td>\n",
       "    </tr>\n",
       "    <tr>\n",
       "      <th>3</th>\n",
       "      <td>Chicago</td>\n",
       "      <td>209 N LA Crosse Ave</td>\n",
       "      <td>119000.0</td>\n",
       "      <td>4.0</td>\n",
       "      <td>2.0</td>\n",
       "      <td>NaN</td>\n",
       "      <td>2178.0</td>\n",
       "      <td>60644</td>\n",
       "      <td>Illinois</td>\n",
       "      <td>NaN</td>\n",
       "      <td>54.637282</td>\n",
       "      <td>4976.19</td>\n",
       "      <td>59714.28</td>\n",
       "    </tr>\n",
       "    <tr>\n",
       "      <th>4</th>\n",
       "      <td>Chicago</td>\n",
       "      <td>1248 W 108th Pl</td>\n",
       "      <td>114900.0</td>\n",
       "      <td>3.0</td>\n",
       "      <td>1.5</td>\n",
       "      <td>1069.0</td>\n",
       "      <td>3123.0</td>\n",
       "      <td>60643</td>\n",
       "      <td>Illinois</td>\n",
       "      <td>107.483630</td>\n",
       "      <td>36.791547</td>\n",
       "      <td>4976.19</td>\n",
       "      <td>59714.28</td>\n",
       "    </tr>\n",
       "  </tbody>\n",
       "</table>\n",
       "</div>"
      ],
      "text/plain": [
       "      city                     address     price  beds  baths    sqft  \\\n",
       "0  Chicago  2711 W Congress Pkwy Apt 2  270000.0   3.0    2.0  1400.0   \n",
       "1  Chicago            7032 S Laflin St  110000.0   5.0    3.0     NaN   \n",
       "2  Chicago              1560 E 93rd St   69900.0   2.0    2.0  1124.0   \n",
       "3  Chicago         209 N LA Crosse Ave  119000.0   4.0    2.0     NaN   \n",
       "4  Chicago             1248 W 108th Pl  114900.0   3.0    1.5  1069.0   \n",
       "\n",
       "   sqftlot    zip     state  price_per_sqft  price_per_sqft_lot  \\\n",
       "0      NaN  60612  Illinois      192.857143                 NaN   \n",
       "1   6200.0  60636  Illinois             NaN           17.741935   \n",
       "2   4626.0  60619  Illinois       62.188612           15.110246   \n",
       "3   2178.0  60644  Illinois             NaN           54.637282   \n",
       "4   3123.0  60643  Illinois      107.483630           36.791547   \n",
       "\n",
       "   Avg monthly income  avg annual income  \n",
       "0             4976.19           59714.28  \n",
       "1             4976.19           59714.28  \n",
       "2             4976.19           59714.28  \n",
       "3             4976.19           59714.28  \n",
       "4             4976.19           59714.28  "
      ]
     },
     "execution_count": 71,
     "metadata": {},
     "output_type": "execute_result"
    }
   ],
   "source": [
    "df.head()"
   ]
  },
  {
   "cell_type": "code",
   "execution_count": 72,
   "id": "3256a2b2",
   "metadata": {},
   "outputs": [],
   "source": [
    "#Changing data types\n",
    "df['state']=df['state'].astype(str)\n",
    "df_tax['state']=df_tax['state'].astype(str)"
   ]
  },
  {
   "cell_type": "code",
   "execution_count": 73,
   "id": "fa74d7b2",
   "metadata": {},
   "outputs": [],
   "source": [
    "#Deleting any white space\n",
    "df['state']=df['state'].str.strip()\n",
    "df_tax['state']=df_tax['state'].str.strip()"
   ]
  },
  {
   "cell_type": "code",
   "execution_count": 74,
   "id": "d24d6eab",
   "metadata": {},
   "outputs": [
    {
     "data": {
      "text/plain": [
       "both          45912\n",
       "left_only         0\n",
       "right_only        0\n",
       "Name: _merge, dtype: int64"
      ]
     },
     "execution_count": 74,
     "metadata": {},
     "output_type": "execute_result"
    }
   ],
   "source": [
    "#Merging datasets\n",
    "df=df.merge(df_tax, on=['state'], how='left', indicator=True)\n",
    "df['_merge'].value_counts(dropna=False)"
   ]
  },
  {
   "cell_type": "code",
   "execution_count": 75,
   "id": "7f417dec",
   "metadata": {},
   "outputs": [
    {
     "data": {
      "text/html": [
       "<div>\n",
       "<style scoped>\n",
       "    .dataframe tbody tr th:only-of-type {\n",
       "        vertical-align: middle;\n",
       "    }\n",
       "\n",
       "    .dataframe tbody tr th {\n",
       "        vertical-align: top;\n",
       "    }\n",
       "\n",
       "    .dataframe thead th {\n",
       "        text-align: right;\n",
       "    }\n",
       "</style>\n",
       "<table border=\"1\" class=\"dataframe\">\n",
       "  <thead>\n",
       "    <tr style=\"text-align: right;\">\n",
       "      <th></th>\n",
       "      <th>city</th>\n",
       "      <th>address</th>\n",
       "      <th>price</th>\n",
       "      <th>beds</th>\n",
       "      <th>baths</th>\n",
       "      <th>sqft</th>\n",
       "      <th>sqftlot</th>\n",
       "      <th>zip</th>\n",
       "      <th>state</th>\n",
       "      <th>price_per_sqft</th>\n",
       "      <th>price_per_sqft_lot</th>\n",
       "      <th>Avg monthly income</th>\n",
       "      <th>avg annual income</th>\n",
       "      <th>property tax rate</th>\n",
       "    </tr>\n",
       "  </thead>\n",
       "  <tbody>\n",
       "    <tr>\n",
       "      <th>0</th>\n",
       "      <td>Chicago</td>\n",
       "      <td>2711 W Congress Pkwy Apt 2</td>\n",
       "      <td>270000.0</td>\n",
       "      <td>3.0</td>\n",
       "      <td>2.0</td>\n",
       "      <td>1400.0</td>\n",
       "      <td>NaN</td>\n",
       "      <td>60612</td>\n",
       "      <td>Illinois</td>\n",
       "      <td>192.857143</td>\n",
       "      <td>NaN</td>\n",
       "      <td>4976.19</td>\n",
       "      <td>59714.28</td>\n",
       "      <td>2.27</td>\n",
       "    </tr>\n",
       "    <tr>\n",
       "      <th>1</th>\n",
       "      <td>Chicago</td>\n",
       "      <td>7032 S Laflin St</td>\n",
       "      <td>110000.0</td>\n",
       "      <td>5.0</td>\n",
       "      <td>3.0</td>\n",
       "      <td>NaN</td>\n",
       "      <td>6200.0</td>\n",
       "      <td>60636</td>\n",
       "      <td>Illinois</td>\n",
       "      <td>NaN</td>\n",
       "      <td>17.741935</td>\n",
       "      <td>4976.19</td>\n",
       "      <td>59714.28</td>\n",
       "      <td>2.27</td>\n",
       "    </tr>\n",
       "    <tr>\n",
       "      <th>2</th>\n",
       "      <td>Chicago</td>\n",
       "      <td>1560 E 93rd St</td>\n",
       "      <td>69900.0</td>\n",
       "      <td>2.0</td>\n",
       "      <td>2.0</td>\n",
       "      <td>1124.0</td>\n",
       "      <td>4626.0</td>\n",
       "      <td>60619</td>\n",
       "      <td>Illinois</td>\n",
       "      <td>62.188612</td>\n",
       "      <td>15.110246</td>\n",
       "      <td>4976.19</td>\n",
       "      <td>59714.28</td>\n",
       "      <td>2.27</td>\n",
       "    </tr>\n",
       "    <tr>\n",
       "      <th>3</th>\n",
       "      <td>Chicago</td>\n",
       "      <td>209 N LA Crosse Ave</td>\n",
       "      <td>119000.0</td>\n",
       "      <td>4.0</td>\n",
       "      <td>2.0</td>\n",
       "      <td>NaN</td>\n",
       "      <td>2178.0</td>\n",
       "      <td>60644</td>\n",
       "      <td>Illinois</td>\n",
       "      <td>NaN</td>\n",
       "      <td>54.637282</td>\n",
       "      <td>4976.19</td>\n",
       "      <td>59714.28</td>\n",
       "      <td>2.27</td>\n",
       "    </tr>\n",
       "    <tr>\n",
       "      <th>4</th>\n",
       "      <td>Chicago</td>\n",
       "      <td>1248 W 108th Pl</td>\n",
       "      <td>114900.0</td>\n",
       "      <td>3.0</td>\n",
       "      <td>1.5</td>\n",
       "      <td>1069.0</td>\n",
       "      <td>3123.0</td>\n",
       "      <td>60643</td>\n",
       "      <td>Illinois</td>\n",
       "      <td>107.483630</td>\n",
       "      <td>36.791547</td>\n",
       "      <td>4976.19</td>\n",
       "      <td>59714.28</td>\n",
       "      <td>2.27</td>\n",
       "    </tr>\n",
       "  </tbody>\n",
       "</table>\n",
       "</div>"
      ],
      "text/plain": [
       "      city                     address     price  beds  baths    sqft  \\\n",
       "0  Chicago  2711 W Congress Pkwy Apt 2  270000.0   3.0    2.0  1400.0   \n",
       "1  Chicago            7032 S Laflin St  110000.0   5.0    3.0     NaN   \n",
       "2  Chicago              1560 E 93rd St   69900.0   2.0    2.0  1124.0   \n",
       "3  Chicago         209 N LA Crosse Ave  119000.0   4.0    2.0     NaN   \n",
       "4  Chicago             1248 W 108th Pl  114900.0   3.0    1.5  1069.0   \n",
       "\n",
       "   sqftlot    zip     state  price_per_sqft  price_per_sqft_lot  \\\n",
       "0      NaN  60612  Illinois      192.857143                 NaN   \n",
       "1   6200.0  60636  Illinois             NaN           17.741935   \n",
       "2   4626.0  60619  Illinois       62.188612           15.110246   \n",
       "3   2178.0  60644  Illinois             NaN           54.637282   \n",
       "4   3123.0  60643  Illinois      107.483630           36.791547   \n",
       "\n",
       "   Avg monthly income  avg annual income  property tax rate  \n",
       "0             4976.19           59714.28               2.27  \n",
       "1             4976.19           59714.28               2.27  \n",
       "2             4976.19           59714.28               2.27  \n",
       "3             4976.19           59714.28               2.27  \n",
       "4             4976.19           59714.28               2.27  "
      ]
     },
     "execution_count": 75,
     "metadata": {},
     "output_type": "execute_result"
    }
   ],
   "source": [
    "df=df.drop(columns=['_merge', 'Unnamed: 0'])\n",
    "df.head()"
   ]
  },
  {
   "cell_type": "code",
   "execution_count": 76,
   "id": "7d2afeef",
   "metadata": {},
   "outputs": [
    {
     "data": {
      "text/plain": [
       "1.80    15669\n",
       "0.76     7115\n",
       "1.72     6968\n",
       "2.27     6634\n",
       "1.58     5247\n",
       "0.66     4279\n",
       "Name: property tax rate, dtype: int64"
      ]
     },
     "execution_count": 76,
     "metadata": {},
     "output_type": "execute_result"
    }
   ],
   "source": [
    "df['property tax rate'].value_counts(dropna=False)"
   ]
  },
  {
   "cell_type": "markdown",
   "id": "674ebabb",
   "metadata": {},
   "source": [
    "# 05. Exporting data"
   ]
  },
  {
   "cell_type": "code",
   "execution_count": 77,
   "id": "12faa801",
   "metadata": {},
   "outputs": [],
   "source": [
    "df.to_pickle(os.path.join(path, '02 Data', 'Prepared Data', 'Real_estate_merged.pkl'))"
   ]
  },
  {
   "cell_type": "code",
   "execution_count": null,
   "id": "d7b62f00",
   "metadata": {},
   "outputs": [],
   "source": []
  }
 ],
 "metadata": {
  "kernelspec": {
   "display_name": "Python 3 (ipykernel)",
   "language": "python",
   "name": "python3"
  },
  "language_info": {
   "codemirror_mode": {
    "name": "ipython",
    "version": 3
   },
   "file_extension": ".py",
   "mimetype": "text/x-python",
   "name": "python",
   "nbconvert_exporter": "python",
   "pygments_lexer": "ipython3",
   "version": "3.9.13"
  }
 },
 "nbformat": 4,
 "nbformat_minor": 5
}
